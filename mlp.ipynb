{
 "cells": [
  {
   "cell_type": "markdown",
   "id": "8d2459d6",
   "metadata": {},
   "source": [
    "# Multilayer Perceptron para a previsão de dados de precipitação"
   ]
  },
  {
   "cell_type": "markdown",
   "id": "bc83362b",
   "metadata": {},
   "source": [
    "## Importação dos dados"
   ]
  },
  {
   "cell_type": "code",
   "execution_count": 18,
   "id": "ac956dc5",
   "metadata": {},
   "outputs": [],
   "source": [
    "import pandas as pd\n",
    "import tensorflow as tf\n",
    "from tensorflow.keras.models import Sequential, load_model\n",
    "from tensorflow.keras.layers import Flatten, Dense, Input\n",
    "from tensorflow.keras.callbacks import EarlyStopping\n",
    "from sklearn.model_selection import train_test_split\n",
    "import matplotlib.pyplot as plt\n",
    "import glob"
   ]
  },
  {
   "cell_type": "code",
   "execution_count": 7,
   "id": "44a68fcd",
   "metadata": {},
   "outputs": [],
   "source": [
    "df = pd.read_csv(\"Banco de dados/inmet_filtrado_mirante.csv\", index_col=0)\n",
    "df = df.dropna()"
   ]
  },
  {
   "cell_type": "markdown",
   "id": "d3189278",
   "metadata": {},
   "source": [
    "## Limpeza dos dados"
   ]
  },
  {
   "cell_type": "markdown",
   "id": "63e70f2c",
   "metadata": {},
   "source": [
    "### Normalização dos dados"
   ]
  },
  {
   "cell_type": "markdown",
   "id": "b9df7112",
   "metadata": {},
   "source": [
    "A fórmula é: $x_{norm} = \\dfrac{x_{i} - \\overline{x}}{\\sigma}$"
   ]
  },
  {
   "cell_type": "code",
   "execution_count": 8,
   "id": "dda0f331",
   "metadata": {},
   "outputs": [
    {
     "data": {
      "text/plain": [
       "PRECIPITACAO TOTAL, HORARIO(mm)                     0.181972\n",
       "TEMPERATURA DO PONTO DE ORVALHO(°C)                14.126436\n",
       "TEMPERATURA ORVALHO MAX. NA HORA ANT. (AUT)(°C)    14.627583\n",
       "TEMPERATURA ORVALHO MIN. NA HORA ANT. (AUT)(°C)    13.652489\n",
       "UMIDADE REL. MAX. NA HORA ANT. (AUT)(%)            71.875480\n",
       "UMIDADE RELATIVA DO AR, HORARIA(%)                 69.346008\n",
       "VENTO, RAJADA MAXIMA(m/s)                           5.225672\n",
       "dtype: float64"
      ]
     },
     "execution_count": 8,
     "metadata": {},
     "output_type": "execute_result"
    }
   ],
   "source": [
    "df.mean()"
   ]
  },
  {
   "cell_type": "code",
   "execution_count": 9,
   "id": "1941012f",
   "metadata": {},
   "outputs": [],
   "source": [
    "df_norm = (df - df.mean())/df.std()\n",
    "df_norm[\"PRECIPITACAO TOTAL, HORARIO(mm)\"] = df[\"PRECIPITACAO TOTAL, HORARIO(mm)\"]"
   ]
  },
  {
   "cell_type": "code",
   "execution_count": 10,
   "id": "d1529987",
   "metadata": {},
   "outputs": [
    {
     "data": {
      "text/html": [
       "<div>\n",
       "<style scoped>\n",
       "    .dataframe tbody tr th:only-of-type {\n",
       "        vertical-align: middle;\n",
       "    }\n",
       "\n",
       "    .dataframe tbody tr th {\n",
       "        vertical-align: top;\n",
       "    }\n",
       "\n",
       "    .dataframe thead th {\n",
       "        text-align: right;\n",
       "    }\n",
       "</style>\n",
       "<table border=\"1\" class=\"dataframe\">\n",
       "  <thead>\n",
       "    <tr style=\"text-align: right;\">\n",
       "      <th></th>\n",
       "      <th>PRECIPITACAO TOTAL, HORARIO(mm)</th>\n",
       "      <th>TEMPERATURA DO PONTO DE ORVALHO(°C)</th>\n",
       "      <th>TEMPERATURA ORVALHO MAX. NA HORA ANT. (AUT)(°C)</th>\n",
       "      <th>TEMPERATURA ORVALHO MIN. NA HORA ANT. (AUT)(°C)</th>\n",
       "      <th>UMIDADE REL. MAX. NA HORA ANT. (AUT)(%)</th>\n",
       "      <th>UMIDADE RELATIVA DO AR, HORARIA(%)</th>\n",
       "      <th>VENTO, RAJADA MAXIMA(m/s)</th>\n",
       "    </tr>\n",
       "    <tr>\n",
       "      <th>Data</th>\n",
       "      <th></th>\n",
       "      <th></th>\n",
       "      <th></th>\n",
       "      <th></th>\n",
       "      <th></th>\n",
       "      <th></th>\n",
       "      <th></th>\n",
       "    </tr>\n",
       "  </thead>\n",
       "  <tbody>\n",
       "    <tr>\n",
       "      <th>2010-10-10 00:00:00</th>\n",
       "      <td>0.0</td>\n",
       "      <td>-0.711163</td>\n",
       "      <td>-0.867264</td>\n",
       "      <td>-0.673133</td>\n",
       "      <td>0.902522</td>\n",
       "      <td>0.995876</td>\n",
       "      <td>0.757262</td>\n",
       "    </tr>\n",
       "    <tr>\n",
       "      <th>2010-10-10 01:00:00</th>\n",
       "      <td>0.0</td>\n",
       "      <td>-0.738240</td>\n",
       "      <td>-0.839535</td>\n",
       "      <td>-0.620390</td>\n",
       "      <td>0.902522</td>\n",
       "      <td>0.826644</td>\n",
       "      <td>0.373708</td>\n",
       "    </tr>\n",
       "  </tbody>\n",
       "</table>\n",
       "</div>"
      ],
      "text/plain": [
       "                     PRECIPITACAO TOTAL, HORARIO(mm)  \\\n",
       "Data                                                   \n",
       "2010-10-10 00:00:00                              0.0   \n",
       "2010-10-10 01:00:00                              0.0   \n",
       "\n",
       "                     TEMPERATURA DO PONTO DE ORVALHO(°C)  \\\n",
       "Data                                                       \n",
       "2010-10-10 00:00:00                            -0.711163   \n",
       "2010-10-10 01:00:00                            -0.738240   \n",
       "\n",
       "                     TEMPERATURA ORVALHO MAX. NA HORA ANT. (AUT)(°C)  \\\n",
       "Data                                                                   \n",
       "2010-10-10 00:00:00                                        -0.867264   \n",
       "2010-10-10 01:00:00                                        -0.839535   \n",
       "\n",
       "                     TEMPERATURA ORVALHO MIN. NA HORA ANT. (AUT)(°C)  \\\n",
       "Data                                                                   \n",
       "2010-10-10 00:00:00                                        -0.673133   \n",
       "2010-10-10 01:00:00                                        -0.620390   \n",
       "\n",
       "                     UMIDADE REL. MAX. NA HORA ANT. (AUT)(%)  \\\n",
       "Data                                                           \n",
       "2010-10-10 00:00:00                                 0.902522   \n",
       "2010-10-10 01:00:00                                 0.902522   \n",
       "\n",
       "                     UMIDADE RELATIVA DO AR, HORARIA(%)  \\\n",
       "Data                                                      \n",
       "2010-10-10 00:00:00                            0.995876   \n",
       "2010-10-10 01:00:00                            0.826644   \n",
       "\n",
       "                     VENTO, RAJADA MAXIMA(m/s)  \n",
       "Data                                            \n",
       "2010-10-10 00:00:00                   0.757262  \n",
       "2010-10-10 01:00:00                   0.373708  "
      ]
     },
     "execution_count": 10,
     "metadata": {},
     "output_type": "execute_result"
    }
   ],
   "source": [
    "df_norm.head(2)"
   ]
  },
  {
   "cell_type": "markdown",
   "id": "cad2bac5",
   "metadata": {},
   "source": [
    "### Simplificação e separação dos dados"
   ]
  },
  {
   "cell_type": "code",
   "execution_count": 11,
   "id": "09b3a02f",
   "metadata": {},
   "outputs": [],
   "source": [
    "filtrar_ = lambda value: int(value > 0)"
   ]
  },
  {
   "cell_type": "code",
   "execution_count": 12,
   "id": "6f252b25",
   "metadata": {},
   "outputs": [],
   "source": [
    "features = df_norm.columns[1:]"
   ]
  },
  {
   "cell_type": "code",
   "execution_count": 13,
   "id": "91064233",
   "metadata": {},
   "outputs": [],
   "source": [
    "X = df_norm[features]\n",
    "Y = df_norm['PRECIPITACAO TOTAL, HORARIO(mm)']\n",
    "Y = Y.apply(filtrar_)"
   ]
  },
  {
   "cell_type": "markdown",
   "id": "75cda231",
   "metadata": {},
   "source": [
    "## Separação dos dados"
   ]
  },
  {
   "cell_type": "code",
   "execution_count": 14,
   "id": "08d0e7d7",
   "metadata": {},
   "outputs": [],
   "source": [
    "x_train, x_test, y_train, y_test = train_test_split(X, Y, test_size=0.2, random_state=42)"
   ]
  },
  {
   "cell_type": "markdown",
   "id": "dd661844",
   "metadata": {},
   "source": [
    "## Criação do modelo"
   ]
  },
  {
   "cell_type": "code",
   "execution_count": 15,
   "id": "a7cbfe31",
   "metadata": {},
   "outputs": [
    {
     "name": "stderr",
     "output_type": "stream",
     "text": [
      "/home/vortex/Documents/Fatec/Trabalhos/3º Ciclo/Cálculo/2R2N/.venv/lib/python3.12/site-packages/keras/src/layers/core/dense.py:87: UserWarning: Do not pass an `input_shape`/`input_dim` argument to a layer. When using Sequential models, prefer using an `Input(shape)` object as the first layer in the model instead.\n",
      "  super().__init__(activity_regularizer=activity_regularizer, **kwargs)\n",
      "2025-05-29 23:08:35.511763: E external/local_xla/xla/stream_executor/cuda/cuda_platform.cc:51] failed call to cuInit: INTERNAL: CUDA error: Failed call to cuInit: UNKNOWN ERROR (303)\n"
     ]
    },
    {
     "data": {
      "text/html": [
       "<pre style=\"white-space:pre;overflow-x:auto;line-height:normal;font-family:Menlo,'DejaVu Sans Mono',consolas,'Courier New',monospace\"><span style=\"font-weight: bold\">Model: \"sequential\"</span>\n",
       "</pre>\n"
      ],
      "text/plain": [
       "\u001b[1mModel: \"sequential\"\u001b[0m\n"
      ]
     },
     "metadata": {},
     "output_type": "display_data"
    },
    {
     "data": {
      "text/html": [
       "<pre style=\"white-space:pre;overflow-x:auto;line-height:normal;font-family:Menlo,'DejaVu Sans Mono',consolas,'Courier New',monospace\">┏━━━━━━━━━━━━━━━━━━━━━━━━━━━━━━━━━┳━━━━━━━━━━━━━━━━━━━━━━━━┳━━━━━━━━━━━━━━━┓\n",
       "┃<span style=\"font-weight: bold\"> Layer (type)                    </span>┃<span style=\"font-weight: bold\"> Output Shape           </span>┃<span style=\"font-weight: bold\">       Param # </span>┃\n",
       "┡━━━━━━━━━━━━━━━━━━━━━━━━━━━━━━━━━╇━━━━━━━━━━━━━━━━━━━━━━━━╇━━━━━━━━━━━━━━━┩\n",
       "│ dense (<span style=\"color: #0087ff; text-decoration-color: #0087ff\">Dense</span>)                   │ (<span style=\"color: #00d7ff; text-decoration-color: #00d7ff\">None</span>, <span style=\"color: #00af00; text-decoration-color: #00af00\">12</span>)             │            <span style=\"color: #00af00; text-decoration-color: #00af00\">84</span> │\n",
       "├─────────────────────────────────┼────────────────────────┼───────────────┤\n",
       "│ dense_1 (<span style=\"color: #0087ff; text-decoration-color: #0087ff\">Dense</span>)                 │ (<span style=\"color: #00d7ff; text-decoration-color: #00d7ff\">None</span>, <span style=\"color: #00af00; text-decoration-color: #00af00\">1</span>)              │            <span style=\"color: #00af00; text-decoration-color: #00af00\">13</span> │\n",
       "└─────────────────────────────────┴────────────────────────┴───────────────┘\n",
       "</pre>\n"
      ],
      "text/plain": [
       "┏━━━━━━━━━━━━━━━━━━━━━━━━━━━━━━━━━┳━━━━━━━━━━━━━━━━━━━━━━━━┳━━━━━━━━━━━━━━━┓\n",
       "┃\u001b[1m \u001b[0m\u001b[1mLayer (type)                   \u001b[0m\u001b[1m \u001b[0m┃\u001b[1m \u001b[0m\u001b[1mOutput Shape          \u001b[0m\u001b[1m \u001b[0m┃\u001b[1m \u001b[0m\u001b[1m      Param #\u001b[0m\u001b[1m \u001b[0m┃\n",
       "┡━━━━━━━━━━━━━━━━━━━━━━━━━━━━━━━━━╇━━━━━━━━━━━━━━━━━━━━━━━━╇━━━━━━━━━━━━━━━┩\n",
       "│ dense (\u001b[38;5;33mDense\u001b[0m)                   │ (\u001b[38;5;45mNone\u001b[0m, \u001b[38;5;34m12\u001b[0m)             │            \u001b[38;5;34m84\u001b[0m │\n",
       "├─────────────────────────────────┼────────────────────────┼───────────────┤\n",
       "│ dense_1 (\u001b[38;5;33mDense\u001b[0m)                 │ (\u001b[38;5;45mNone\u001b[0m, \u001b[38;5;34m1\u001b[0m)              │            \u001b[38;5;34m13\u001b[0m │\n",
       "└─────────────────────────────────┴────────────────────────┴───────────────┘\n"
      ]
     },
     "metadata": {},
     "output_type": "display_data"
    },
    {
     "data": {
      "text/html": [
       "<pre style=\"white-space:pre;overflow-x:auto;line-height:normal;font-family:Menlo,'DejaVu Sans Mono',consolas,'Courier New',monospace\"><span style=\"font-weight: bold\"> Total params: </span><span style=\"color: #00af00; text-decoration-color: #00af00\">97</span> (388.00 B)\n",
       "</pre>\n"
      ],
      "text/plain": [
       "\u001b[1m Total params: \u001b[0m\u001b[38;5;34m97\u001b[0m (388.00 B)\n"
      ]
     },
     "metadata": {},
     "output_type": "display_data"
    },
    {
     "data": {
      "text/html": [
       "<pre style=\"white-space:pre;overflow-x:auto;line-height:normal;font-family:Menlo,'DejaVu Sans Mono',consolas,'Courier New',monospace\"><span style=\"font-weight: bold\"> Trainable params: </span><span style=\"color: #00af00; text-decoration-color: #00af00\">97</span> (388.00 B)\n",
       "</pre>\n"
      ],
      "text/plain": [
       "\u001b[1m Trainable params: \u001b[0m\u001b[38;5;34m97\u001b[0m (388.00 B)\n"
      ]
     },
     "metadata": {},
     "output_type": "display_data"
    },
    {
     "data": {
      "text/html": [
       "<pre style=\"white-space:pre;overflow-x:auto;line-height:normal;font-family:Menlo,'DejaVu Sans Mono',consolas,'Courier New',monospace\"><span style=\"font-weight: bold\"> Non-trainable params: </span><span style=\"color: #00af00; text-decoration-color: #00af00\">0</span> (0.00 B)\n",
       "</pre>\n"
      ],
      "text/plain": [
       "\u001b[1m Non-trainable params: \u001b[0m\u001b[38;5;34m0\u001b[0m (0.00 B)\n"
      ]
     },
     "metadata": {},
     "output_type": "display_data"
    }
   ],
   "source": [
    "model = Sequential([\n",
    "    Input(shape=(len(features),)), # Camada de Input\n",
    "    Dense(12, activation=\"sigmoid\", input_shape=(len(features),)), # Camada oculta\n",
    "    Dense(1, activation=\"sigmoid\") # Camada de Output\n",
    "])\n",
    "model.summary()"
   ]
  },
  {
   "cell_type": "code",
   "execution_count": 16,
   "id": "c9f3082f",
   "metadata": {},
   "outputs": [],
   "source": [
    "early_stopping = EarlyStopping(monitor='val_loss', patience=5, restore_best_weights=True)\n",
    "model.compile(optimizer='adam',\n",
    "              loss='binary_crossentropy',\n",
    "              metrics=['accuracy'])"
   ]
  },
  {
   "cell_type": "markdown",
   "id": "510a6337",
   "metadata": {},
   "source": [
    "## Treino e resultados"
   ]
  },
  {
   "cell_type": "code",
   "execution_count": null,
   "id": "6e51c858",
   "metadata": {},
   "outputs": [
    {
     "name": "stdout",
     "output_type": "stream",
     "text": [
      "Epoch 1/100\n",
      "\u001b[1m5129/5129\u001b[0m \u001b[32m━━━━━━━━━━━━━━━━━━━━\u001b[0m\u001b[37m\u001b[0m \u001b[1m25s\u001b[0m 5ms/step - accuracy: 0.9320 - loss: 0.1746 - val_accuracy: 0.9298 - val_loss: 0.1738\n",
      "Epoch 2/100\n",
      "\u001b[1m5129/5129\u001b[0m \u001b[32m━━━━━━━━━━━━━━━━━━━━\u001b[0m\u001b[37m\u001b[0m \u001b[1m25s\u001b[0m 5ms/step - accuracy: 0.9326 - loss: 0.1746 - val_accuracy: 0.9296 - val_loss: 0.1733\n",
      "Epoch 3/100\n",
      "\u001b[1m5129/5129\u001b[0m \u001b[32m━━━━━━━━━━━━━━━━━━━━\u001b[0m\u001b[37m\u001b[0m \u001b[1m26s\u001b[0m 5ms/step - accuracy: 0.9350 - loss: 0.1687 - val_accuracy: 0.9300 - val_loss: 0.1726\n",
      "Epoch 4/100\n",
      "\u001b[1m5129/5129\u001b[0m \u001b[32m━━━━━━━━━━━━━━━━━━━━\u001b[0m\u001b[37m\u001b[0m \u001b[1m25s\u001b[0m 5ms/step - accuracy: 0.9330 - loss: 0.1717 - val_accuracy: 0.9300 - val_loss: 0.1727\n",
      "Epoch 5/100\n",
      "\u001b[1m5129/5129\u001b[0m \u001b[32m━━━━━━━━━━━━━━━━━━━━\u001b[0m\u001b[37m\u001b[0m \u001b[1m26s\u001b[0m 5ms/step - accuracy: 0.9325 - loss: 0.1720 - val_accuracy: 0.9304 - val_loss: 0.1714\n",
      "Epoch 6/100\n",
      "\u001b[1m5129/5129\u001b[0m \u001b[32m━━━━━━━━━━━━━━━━━━━━\u001b[0m\u001b[37m\u001b[0m \u001b[1m27s\u001b[0m 5ms/step - accuracy: 0.9326 - loss: 0.1730 - val_accuracy: 0.9305 - val_loss: 0.1712\n",
      "Epoch 7/100\n",
      "\u001b[1m5129/5129\u001b[0m \u001b[32m━━━━━━━━━━━━━━━━━━━━\u001b[0m\u001b[37m\u001b[0m \u001b[1m27s\u001b[0m 5ms/step - accuracy: 0.9328 - loss: 0.1716 - val_accuracy: 0.9311 - val_loss: 0.1712\n",
      "Epoch 8/100\n",
      "\u001b[1m5129/5129\u001b[0m \u001b[32m━━━━━━━━━━━━━━━━━━━━\u001b[0m\u001b[37m\u001b[0m \u001b[1m27s\u001b[0m 5ms/step - accuracy: 0.9342 - loss: 0.1688 - val_accuracy: 0.9309 - val_loss: 0.1706\n",
      "Epoch 9/100\n",
      "\u001b[1m5129/5129\u001b[0m \u001b[32m━━━━━━━━━━━━━━━━━━━━\u001b[0m\u001b[37m\u001b[0m \u001b[1m40s\u001b[0m 5ms/step - accuracy: 0.9339 - loss: 0.1700 - val_accuracy: 0.9311 - val_loss: 0.1698\n",
      "Epoch 10/100\n",
      "\u001b[1m5129/5129\u001b[0m \u001b[32m━━━━━━━━━━━━━━━━━━━━\u001b[0m\u001b[37m\u001b[0m \u001b[1m27s\u001b[0m 5ms/step - accuracy: 0.9344 - loss: 0.1680 - val_accuracy: 0.9312 - val_loss: 0.1692\n",
      "Epoch 11/100\n",
      "\u001b[1m5129/5129\u001b[0m \u001b[32m━━━━━━━━━━━━━━━━━━━━\u001b[0m\u001b[37m\u001b[0m \u001b[1m27s\u001b[0m 5ms/step - accuracy: 0.9344 - loss: 0.1689 - val_accuracy: 0.9314 - val_loss: 0.1697\n",
      "Epoch 12/100\n",
      "\u001b[1m5129/5129\u001b[0m \u001b[32m━━━━━━━━━━━━━━━━━━━━\u001b[0m\u001b[37m\u001b[0m \u001b[1m27s\u001b[0m 5ms/step - accuracy: 0.9328 - loss: 0.1718 - val_accuracy: 0.9322 - val_loss: 0.1690\n",
      "Epoch 13/100\n",
      "\u001b[1m5129/5129\u001b[0m \u001b[32m━━━━━━━━━━━━━━━━━━━━\u001b[0m\u001b[37m\u001b[0m \u001b[1m27s\u001b[0m 5ms/step - accuracy: 0.9330 - loss: 0.1725 - val_accuracy: 0.9321 - val_loss: 0.1684\n",
      "Epoch 14/100\n",
      "\u001b[1m5129/5129\u001b[0m \u001b[32m━━━━━━━━━━━━━━━━━━━━\u001b[0m\u001b[37m\u001b[0m \u001b[1m27s\u001b[0m 5ms/step - accuracy: 0.9343 - loss: 0.1687 - val_accuracy: 0.9323 - val_loss: 0.1684\n",
      "Epoch 15/100\n",
      "\u001b[1m5129/5129\u001b[0m \u001b[32m━━━━━━━━━━━━━━━━━━━━\u001b[0m\u001b[37m\u001b[0m \u001b[1m26s\u001b[0m 5ms/step - accuracy: 0.9343 - loss: 0.1681 - val_accuracy: 0.9326 - val_loss: 0.1683\n",
      "Epoch 16/100\n",
      "\u001b[1m5129/5129\u001b[0m \u001b[32m━━━━━━━━━━━━━━━━━━━━\u001b[0m\u001b[37m\u001b[0m \u001b[1m28s\u001b[0m 5ms/step - accuracy: 0.9341 - loss: 0.1676 - val_accuracy: 0.9328 - val_loss: 0.1673\n",
      "Epoch 17/100\n",
      "\u001b[1m5129/5129\u001b[0m \u001b[32m━━━━━━━━━━━━━━━━━━━━\u001b[0m\u001b[37m\u001b[0m \u001b[1m27s\u001b[0m 5ms/step - accuracy: 0.9337 - loss: 0.1688 - val_accuracy: 0.9330 - val_loss: 0.1673\n",
      "Epoch 18/100\n",
      "\u001b[1m5129/5129\u001b[0m \u001b[32m━━━━━━━━━━━━━━━━━━━━\u001b[0m\u001b[37m\u001b[0m \u001b[1m33s\u001b[0m 7ms/step - accuracy: 0.9345 - loss: 0.1669 - val_accuracy: 0.9326 - val_loss: 0.1666\n",
      "Epoch 19/100\n",
      "\u001b[1m5129/5129\u001b[0m \u001b[32m━━━━━━━━━━━━━━━━━━━━\u001b[0m\u001b[37m\u001b[0m \u001b[1m27s\u001b[0m 5ms/step - accuracy: 0.9344 - loss: 0.1679 - val_accuracy: 0.9333 - val_loss: 0.1666\n",
      "Epoch 20/100\n",
      "\u001b[1m5129/5129\u001b[0m \u001b[32m━━━━━━━━━━━━━━━━━━━━\u001b[0m\u001b[37m\u001b[0m \u001b[1m27s\u001b[0m 5ms/step - accuracy: 0.9358 - loss: 0.1655 - val_accuracy: 0.9333 - val_loss: 0.1658\n",
      "Epoch 21/100\n",
      "\u001b[1m5129/5129\u001b[0m \u001b[32m━━━━━━━━━━━━━━━━━━━━\u001b[0m\u001b[37m\u001b[0m \u001b[1m28s\u001b[0m 5ms/step - accuracy: 0.9353 - loss: 0.1660 - val_accuracy: 0.9332 - val_loss: 0.1657\n",
      "Epoch 22/100\n",
      "\u001b[1m5129/5129\u001b[0m \u001b[32m━━━━━━━━━━━━━━━━━━━━\u001b[0m\u001b[37m\u001b[0m \u001b[1m27s\u001b[0m 5ms/step - accuracy: 0.9334 - loss: 0.1663 - val_accuracy: 0.9344 - val_loss: 0.1653\n",
      "Epoch 23/100\n",
      "\u001b[1m5129/5129\u001b[0m \u001b[32m━━━━━━━━━━━━━━━━━━━━\u001b[0m\u001b[37m\u001b[0m \u001b[1m27s\u001b[0m 5ms/step - accuracy: 0.9356 - loss: 0.1657 - val_accuracy: 0.9340 - val_loss: 0.1657\n",
      "Epoch 24/100\n",
      "\u001b[1m5129/5129\u001b[0m \u001b[32m━━━━━━━━━━━━━━━━━━━━\u001b[0m\u001b[37m\u001b[0m \u001b[1m27s\u001b[0m 5ms/step - accuracy: 0.9357 - loss: 0.1657 - val_accuracy: 0.9341 - val_loss: 0.1651\n",
      "Epoch 25/100\n",
      "\u001b[1m5129/5129\u001b[0m \u001b[32m━━━━━━━━━━━━━━━━━━━━\u001b[0m\u001b[37m\u001b[0m \u001b[1m27s\u001b[0m 5ms/step - accuracy: 0.9349 - loss: 0.1664 - val_accuracy: 0.9341 - val_loss: 0.1646\n",
      "Epoch 26/100\n",
      "\u001b[1m5129/5129\u001b[0m \u001b[32m━━━━━━━━━━━━━━━━━━━━\u001b[0m\u001b[37m\u001b[0m \u001b[1m27s\u001b[0m 5ms/step - accuracy: 0.9353 - loss: 0.1659 - val_accuracy: 0.9339 - val_loss: 0.1645\n",
      "Epoch 27/100\n",
      "\u001b[1m5129/5129\u001b[0m \u001b[32m━━━━━━━━━━━━━━━━━━━━\u001b[0m\u001b[37m\u001b[0m \u001b[1m27s\u001b[0m 5ms/step - accuracy: 0.9363 - loss: 0.1642 - val_accuracy: 0.9343 - val_loss: 0.1645\n",
      "Epoch 28/100\n",
      "\u001b[1m5129/5129\u001b[0m \u001b[32m━━━━━━━━━━━━━━━━━━━━\u001b[0m\u001b[37m\u001b[0m \u001b[1m28s\u001b[0m 5ms/step - accuracy: 0.9351 - loss: 0.1648 - val_accuracy: 0.9337 - val_loss: 0.1642\n",
      "Epoch 29/100\n",
      "\u001b[1m5129/5129\u001b[0m \u001b[32m━━━━━━━━━━━━━━━━━━━━\u001b[0m\u001b[37m\u001b[0m \u001b[1m27s\u001b[0m 5ms/step - accuracy: 0.9359 - loss: 0.1619 - val_accuracy: 0.9344 - val_loss: 0.1640\n",
      "Epoch 30/100\n",
      "\u001b[1m5129/5129\u001b[0m \u001b[32m━━━━━━━━━━━━━━━━━━━━\u001b[0m\u001b[37m\u001b[0m \u001b[1m30s\u001b[0m 6ms/step - accuracy: 0.9349 - loss: 0.1642 - val_accuracy: 0.9344 - val_loss: 0.1641\n",
      "Epoch 31/100\n",
      "\u001b[1m5129/5129\u001b[0m \u001b[32m━━━━━━━━━━━━━━━━━━━━\u001b[0m\u001b[37m\u001b[0m \u001b[1m28s\u001b[0m 5ms/step - accuracy: 0.9368 - loss: 0.1617 - val_accuracy: 0.9344 - val_loss: 0.1637\n",
      "Epoch 32/100\n",
      "\u001b[1m5129/5129\u001b[0m \u001b[32m━━━━━━━━━━━━━━━━━━━━\u001b[0m\u001b[37m\u001b[0m \u001b[1m30s\u001b[0m 6ms/step - accuracy: 0.9339 - loss: 0.1669 - val_accuracy: 0.9346 - val_loss: 0.1634\n",
      "Epoch 33/100\n",
      "\u001b[1m5129/5129\u001b[0m \u001b[32m━━━━━━━━━━━━━━━━━━━━\u001b[0m\u001b[37m\u001b[0m \u001b[1m30s\u001b[0m 6ms/step - accuracy: 0.9360 - loss: 0.1622 - val_accuracy: 0.9335 - val_loss: 0.1641\n",
      "Epoch 34/100\n",
      "\u001b[1m5129/5129\u001b[0m \u001b[32m━━━━━━━━━━━━━━━━━━━━\u001b[0m\u001b[37m\u001b[0m \u001b[1m28s\u001b[0m 6ms/step - accuracy: 0.9369 - loss: 0.1620 - val_accuracy: 0.9334 - val_loss: 0.1640\n",
      "Epoch 35/100\n",
      "\u001b[1m5129/5129\u001b[0m \u001b[32m━━━━━━━━━━━━━━━━━━━━\u001b[0m\u001b[37m\u001b[0m \u001b[1m27s\u001b[0m 5ms/step - accuracy: 0.9361 - loss: 0.1653 - val_accuracy: 0.9339 - val_loss: 0.1627\n",
      "Epoch 36/100\n",
      "\u001b[1m5129/5129\u001b[0m \u001b[32m━━━━━━━━━━━━━━━━━━━━\u001b[0m\u001b[37m\u001b[0m \u001b[1m28s\u001b[0m 5ms/step - accuracy: 0.9355 - loss: 0.1639 - val_accuracy: 0.9349 - val_loss: 0.1630\n",
      "Epoch 37/100\n",
      "\u001b[1m5129/5129\u001b[0m \u001b[32m━━━━━━━━━━━━━━━━━━━━\u001b[0m\u001b[37m\u001b[0m \u001b[1m29s\u001b[0m 6ms/step - accuracy: 0.9357 - loss: 0.1629 - val_accuracy: 0.9350 - val_loss: 0.1629\n",
      "Epoch 38/100\n",
      "\u001b[1m5129/5129\u001b[0m \u001b[32m━━━━━━━━━━━━━━━━━━━━\u001b[0m\u001b[37m\u001b[0m \u001b[1m27s\u001b[0m 5ms/step - accuracy: 0.9348 - loss: 0.1661 - val_accuracy: 0.9342 - val_loss: 0.1629\n",
      "Epoch 39/100\n",
      "\u001b[1m5129/5129\u001b[0m \u001b[32m━━━━━━━━━━━━━━━━━━━━\u001b[0m\u001b[37m\u001b[0m \u001b[1m28s\u001b[0m 5ms/step - accuracy: 0.9372 - loss: 0.1613 - val_accuracy: 0.9346 - val_loss: 0.1626\n",
      "Epoch 40/100\n",
      "\u001b[1m5129/5129\u001b[0m \u001b[32m━━━━━━━━━━━━━━━━━━━━\u001b[0m\u001b[37m\u001b[0m \u001b[1m29s\u001b[0m 6ms/step - accuracy: 0.9363 - loss: 0.1612 - val_accuracy: 0.9346 - val_loss: 0.1626\n",
      "Epoch 41/100\n",
      "\u001b[1m5129/5129\u001b[0m \u001b[32m━━━━━━━━━━━━━━━━━━━━\u001b[0m\u001b[37m\u001b[0m \u001b[1m28s\u001b[0m 5ms/step - accuracy: 0.9364 - loss: 0.1631 - val_accuracy: 0.9347 - val_loss: 0.1627\n",
      "Epoch 42/100\n",
      "\u001b[1m5129/5129\u001b[0m \u001b[32m━━━━━━━━━━━━━━━━━━━━\u001b[0m\u001b[37m\u001b[0m \u001b[1m29s\u001b[0m 6ms/step - accuracy: 0.9338 - loss: 0.1656 - val_accuracy: 0.9347 - val_loss: 0.1627\n",
      "Epoch 43/100\n",
      "\u001b[1m5129/5129\u001b[0m \u001b[32m━━━━━━━━━━━━━━━━━━━━\u001b[0m\u001b[37m\u001b[0m \u001b[1m33s\u001b[0m 6ms/step - accuracy: 0.9356 - loss: 0.1640 - val_accuracy: 0.9347 - val_loss: 0.1620\n",
      "Epoch 44/100\n",
      "\u001b[1m5129/5129\u001b[0m \u001b[32m━━━━━━━━━━━━━━━━━━━━\u001b[0m\u001b[37m\u001b[0m \u001b[1m29s\u001b[0m 6ms/step - accuracy: 0.9367 - loss: 0.1619 - val_accuracy: 0.9350 - val_loss: 0.1618\n",
      "Epoch 45/100\n",
      "\u001b[1m5129/5129\u001b[0m \u001b[32m━━━━━━━━━━━━━━━━━━━━\u001b[0m\u001b[37m\u001b[0m \u001b[1m32s\u001b[0m 6ms/step - accuracy: 0.9359 - loss: 0.1637 - val_accuracy: 0.9345 - val_loss: 0.1617\n",
      "Epoch 46/100\n",
      "\u001b[1m5129/5129\u001b[0m \u001b[32m━━━━━━━━━━━━━━━━━━━━\u001b[0m\u001b[37m\u001b[0m \u001b[1m32s\u001b[0m 6ms/step - accuracy: 0.9354 - loss: 0.1631 - val_accuracy: 0.9348 - val_loss: 0.1627\n",
      "Epoch 47/100\n",
      "\u001b[1m5129/5129\u001b[0m \u001b[32m━━━━━━━━━━━━━━━━━━━━\u001b[0m\u001b[37m\u001b[0m \u001b[1m33s\u001b[0m 6ms/step - accuracy: 0.9359 - loss: 0.1600 - val_accuracy: 0.9350 - val_loss: 0.1625\n",
      "Epoch 48/100\n",
      "\u001b[1m5129/5129\u001b[0m \u001b[32m━━━━━━━━━━━━━━━━━━━━\u001b[0m\u001b[37m\u001b[0m \u001b[1m33s\u001b[0m 6ms/step - accuracy: 0.9362 - loss: 0.1606 - val_accuracy: 0.9350 - val_loss: 0.1618\n",
      "Epoch 49/100\n",
      "\u001b[1m5129/5129\u001b[0m \u001b[32m━━━━━━━━━━━━━━━━━━━━\u001b[0m\u001b[37m\u001b[0m \u001b[1m33s\u001b[0m 6ms/step - accuracy: 0.9346 - loss: 0.1639 - val_accuracy: 0.9350 - val_loss: 0.1618\n",
      "Epoch 50/100\n",
      "\u001b[1m5129/5129\u001b[0m \u001b[32m━━━━━━━━━━━━━━━━━━━━\u001b[0m\u001b[37m\u001b[0m \u001b[1m35s\u001b[0m 7ms/step - accuracy: 0.9358 - loss: 0.1613 - val_accuracy: 0.9350 - val_loss: 0.1615\n",
      "Epoch 51/100\n",
      "\u001b[1m5129/5129\u001b[0m \u001b[32m━━━━━━━━━━━━━━━━━━━━\u001b[0m\u001b[37m\u001b[0m \u001b[1m33s\u001b[0m 6ms/step - accuracy: 0.9352 - loss: 0.1637 - val_accuracy: 0.9349 - val_loss: 0.1618\n",
      "Epoch 52/100\n",
      "\u001b[1m5129/5129\u001b[0m \u001b[32m━━━━━━━━━━━━━━━━━━━━\u001b[0m\u001b[37m\u001b[0m \u001b[1m41s\u001b[0m 7ms/step - accuracy: 0.9358 - loss: 0.1616 - val_accuracy: 0.9347 - val_loss: 0.1615\n",
      "Epoch 53/100\n",
      "\u001b[1m5129/5129\u001b[0m \u001b[32m━━━━━━━━━━━━━━━━━━━━\u001b[0m\u001b[37m\u001b[0m \u001b[1m29s\u001b[0m 6ms/step - accuracy: 0.9376 - loss: 0.1596 - val_accuracy: 0.9354 - val_loss: 0.1611\n",
      "Epoch 54/100\n",
      "\u001b[1m5129/5129\u001b[0m \u001b[32m━━━━━━━━━━━━━━━━━━━━\u001b[0m\u001b[37m\u001b[0m \u001b[1m34s\u001b[0m 7ms/step - accuracy: 0.9366 - loss: 0.1606 - val_accuracy: 0.9348 - val_loss: 0.1617\n",
      "Epoch 55/100\n",
      "\u001b[1m5129/5129\u001b[0m \u001b[32m━━━━━━━━━━━━━━━━━━━━\u001b[0m\u001b[37m\u001b[0m \u001b[1m34s\u001b[0m 7ms/step - accuracy: 0.9362 - loss: 0.1638 - val_accuracy: 0.9348 - val_loss: 0.1610\n",
      "Epoch 56/100\n",
      "\u001b[1m5129/5129\u001b[0m \u001b[32m━━━━━━━━━━━━━━━━━━━━\u001b[0m\u001b[37m\u001b[0m \u001b[1m35s\u001b[0m 7ms/step - accuracy: 0.9367 - loss: 0.1595 - val_accuracy: 0.9350 - val_loss: 0.1610\n",
      "Epoch 57/100\n",
      "\u001b[1m5129/5129\u001b[0m \u001b[32m━━━━━━━━━━━━━━━━━━━━\u001b[0m\u001b[37m\u001b[0m \u001b[1m36s\u001b[0m 7ms/step - accuracy: 0.9355 - loss: 0.1635 - val_accuracy: 0.9350 - val_loss: 0.1609\n",
      "Epoch 58/100\n",
      "\u001b[1m5129/5129\u001b[0m \u001b[32m━━━━━━━━━━━━━━━━━━━━\u001b[0m\u001b[37m\u001b[0m \u001b[1m29s\u001b[0m 6ms/step - accuracy: 0.9364 - loss: 0.1614 - val_accuracy: 0.9348 - val_loss: 0.1608\n",
      "Epoch 59/100\n",
      "\u001b[1m5129/5129\u001b[0m \u001b[32m━━━━━━━━━━━━━━━━━━━━\u001b[0m\u001b[37m\u001b[0m \u001b[1m29s\u001b[0m 6ms/step - accuracy: 0.9382 - loss: 0.1604 - val_accuracy: 0.9347 - val_loss: 0.1610\n",
      "Epoch 60/100\n",
      "\u001b[1m5129/5129\u001b[0m \u001b[32m━━━━━━━━━━━━━━━━━━━━\u001b[0m\u001b[37m\u001b[0m \u001b[1m31s\u001b[0m 6ms/step - accuracy: 0.9371 - loss: 0.1604 - val_accuracy: 0.9347 - val_loss: 0.1624\n",
      "Epoch 61/100\n",
      "\u001b[1m5129/5129\u001b[0m \u001b[32m━━━━━━━━━━━━━━━━━━━━\u001b[0m\u001b[37m\u001b[0m \u001b[1m29s\u001b[0m 6ms/step - accuracy: 0.9375 - loss: 0.1578 - val_accuracy: 0.9348 - val_loss: 0.1613\n",
      "Epoch 62/100\n",
      "\u001b[1m5129/5129\u001b[0m \u001b[32m━━━━━━━━━━━━━━━━━━━━\u001b[0m\u001b[37m\u001b[0m \u001b[1m35s\u001b[0m 7ms/step - accuracy: 0.9369 - loss: 0.1593 - val_accuracy: 0.9348 - val_loss: 0.1612\n",
      "Epoch 63/100\n",
      "\u001b[1m5129/5129\u001b[0m \u001b[32m━━━━━━━━━━━━━━━━━━━━\u001b[0m\u001b[37m\u001b[0m \u001b[1m31s\u001b[0m 6ms/step - accuracy: 0.9374 - loss: 0.1610 - val_accuracy: 0.9351 - val_loss: 0.1608\n",
      "Epoch 64/100\n",
      "\u001b[1m5129/5129\u001b[0m \u001b[32m━━━━━━━━━━━━━━━━━━━━\u001b[0m\u001b[37m\u001b[0m \u001b[1m35s\u001b[0m 7ms/step - accuracy: 0.9367 - loss: 0.1617 - val_accuracy: 0.9351 - val_loss: 0.1614\n",
      "Epoch 65/100\n",
      "\u001b[1m5129/5129\u001b[0m \u001b[32m━━━━━━━━━━━━━━━━━━━━\u001b[0m\u001b[37m\u001b[0m \u001b[1m36s\u001b[0m 7ms/step - accuracy: 0.9371 - loss: 0.1604 - val_accuracy: 0.9349 - val_loss: 0.1606\n",
      "Epoch 66/100\n",
      "\u001b[1m5129/5129\u001b[0m \u001b[32m━━━━━━━━━━━━━━━━━━━━\u001b[0m\u001b[37m\u001b[0m \u001b[1m37s\u001b[0m 7ms/step - accuracy: 0.9365 - loss: 0.1607 - val_accuracy: 0.9350 - val_loss: 0.1605\n",
      "Epoch 67/100\n",
      "\u001b[1m5129/5129\u001b[0m \u001b[32m━━━━━━━━━━━━━━━━━━━━\u001b[0m\u001b[37m\u001b[0m \u001b[1m38s\u001b[0m 7ms/step - accuracy: 0.9365 - loss: 0.1611 - val_accuracy: 0.9353 - val_loss: 0.1610\n",
      "Epoch 68/100\n",
      "\u001b[1m5129/5129\u001b[0m \u001b[32m━━━━━━━━━━━━━━━━━━━━\u001b[0m\u001b[37m\u001b[0m \u001b[1m37s\u001b[0m 7ms/step - accuracy: 0.9366 - loss: 0.1615 - val_accuracy: 0.9351 - val_loss: 0.1601\n",
      "Epoch 69/100\n",
      "\u001b[1m5129/5129\u001b[0m \u001b[32m━━━━━━━━━━━━━━━━━━━━\u001b[0m\u001b[37m\u001b[0m \u001b[1m38s\u001b[0m 7ms/step - accuracy: 0.9355 - loss: 0.1611 - val_accuracy: 0.9348 - val_loss: 0.1606\n",
      "Epoch 70/100\n",
      "\u001b[1m5129/5129\u001b[0m \u001b[32m━━━━━━━━━━━━━━━━━━━━\u001b[0m\u001b[37m\u001b[0m \u001b[1m38s\u001b[0m 7ms/step - accuracy: 0.9369 - loss: 0.1627 - val_accuracy: 0.9351 - val_loss: 0.1603\n",
      "Epoch 71/100\n",
      "\u001b[1m5129/5129\u001b[0m \u001b[32m━━━━━━━━━━━━━━━━━━━━\u001b[0m\u001b[37m\u001b[0m \u001b[1m38s\u001b[0m 7ms/step - accuracy: 0.9364 - loss: 0.1618 - val_accuracy: 0.9350 - val_loss: 0.1602\n",
      "Epoch 72/100\n",
      "\u001b[1m5129/5129\u001b[0m \u001b[32m━━━━━━━━━━━━━━━━━━━━\u001b[0m\u001b[37m\u001b[0m \u001b[1m38s\u001b[0m 7ms/step - accuracy: 0.9363 - loss: 0.1631 - val_accuracy: 0.9346 - val_loss: 0.1601\n",
      "Epoch 73/100\n",
      "\u001b[1m5129/5129\u001b[0m \u001b[32m━━━━━━━━━━━━━━━━━━━━\u001b[0m\u001b[37m\u001b[0m \u001b[1m39s\u001b[0m 8ms/step - accuracy: 0.9378 - loss: 0.1598 - val_accuracy: 0.9349 - val_loss: 0.1604\n",
      "Epoch 74/100\n",
      "\u001b[1m5129/5129\u001b[0m \u001b[32m━━━━━━━━━━━━━━━━━━━━\u001b[0m\u001b[37m\u001b[0m \u001b[1m38s\u001b[0m 7ms/step - accuracy: 0.9365 - loss: 0.1623 - val_accuracy: 0.9350 - val_loss: 0.1604\n",
      "Epoch 75/100\n",
      "\u001b[1m5129/5129\u001b[0m \u001b[32m━━━━━━━━━━━━━━━━━━━━\u001b[0m\u001b[37m\u001b[0m \u001b[1m39s\u001b[0m 8ms/step - accuracy: 0.9364 - loss: 0.1601 - val_accuracy: 0.9349 - val_loss: 0.1602\n",
      "Epoch 76/100\n",
      "\u001b[1m5129/5129\u001b[0m \u001b[32m━━━━━━━━━━━━━━━━━━━━\u001b[0m\u001b[37m\u001b[0m \u001b[1m40s\u001b[0m 8ms/step - accuracy: 0.9369 - loss: 0.1591 - val_accuracy: 0.9347 - val_loss: 0.1612\n",
      "Epoch 77/100\n",
      "\u001b[1m5129/5129\u001b[0m \u001b[32m━━━━━━━━━━━━━━━━━━━━\u001b[0m\u001b[37m\u001b[0m \u001b[1m40s\u001b[0m 8ms/step - accuracy: 0.9367 - loss: 0.1600 - val_accuracy: 0.9349 - val_loss: 0.1601\n",
      "<keras.src.callbacks.history.History object at 0x78862a6cdeb0>\n"
     ]
    }
   ],
   "source": [
    "if not glob.glob(\"mlp.keras\"):\n",
    "    mod = model.fit(x_train, y_train, epochs=100, batch_size=20, validation_data=(x_test, y_test), callbacks=[early_stopping])\n",
    "    model.save(\"mlp.keras\")\n",
    "else:\n",
    "    model = load_model(\"mlp.keras\")\n",
    "    print(\"Modelo já treinado!\")  "
   ]
  },
  {
   "cell_type": "markdown",
   "id": "8bc84633",
   "metadata": {},
   "source": [
    "## Teste do modelo"
   ]
  },
  {
   "cell_type": "code",
   "execution_count": 152,
   "id": "ed18f518",
   "metadata": {},
   "outputs": [
    {
     "name": "stdout",
     "output_type": "stream",
     "text": [
      "Loss, Acurácia: [0.16007976233959198, 0.934638500213623]\n"
     ]
    }
   ],
   "source": [
    "results = model.evaluate(x_test, y_test, verbose=0)\n",
    "print('Loss, Acurácia:', results)"
   ]
  },
  {
   "cell_type": "markdown",
   "id": "19a5226a",
   "metadata": {},
   "source": [
    "### Visualização dos dados"
   ]
  },
  {
   "cell_type": "code",
   "execution_count": 153,
   "id": "f1fdcdc8",
   "metadata": {},
   "outputs": [
    {
     "data": {
      "image/png": "[encoded data removed]",
      "text/plain": [
       "<Figure size 1200x500 with 2 Axes>"
      ]
     },
     "metadata": {},
     "output_type": "display_data"
    }
   ],
   "source": [
    "plt.figure(figsize=(12, 5))\n",
    "\n",
    "plt.subplot(1, 2, 1)\n",
    "plt.plot(mod.history['accuracy'], label='Training Accuracy', color='blue')\n",
    "plt.plot(mod.history['val_accuracy'], label='Validation Accuracy', color='orange')\n",
    "plt.title('Training and Validation Accuracy', fontsize=14)\n",
    "plt.xlabel('Epochs', fontsize=12)\n",
    "plt.ylabel('Accuracy', fontsize=12)\n",
    "plt.legend()\n",
    "plt.grid(True)\n",
    "\n",
    "plt.subplot(1, 2, 2)\n",
    "plt.plot(mod.history['loss'], label='Training Loss', color='blue')\n",
    "plt.plot(mod.history['val_loss'], label='Validation Loss', color='orange')\n",
    "plt.title('Training and Validation Loss', fontsize=14)\n",
    "plt.xlabel('Epochs', fontsize=12)\n",
    "plt.ylabel('Loss', fontsize=12)\n",
    "plt.legend()\n",
    "plt.grid(True)\n",
    "\n",
    "plt.suptitle(\"Model Training Performance\", fontsize=16)\n",
    "plt.tight_layout()\n",
    "plt.show()"
   ]
  },
  {
   "cell_type": "markdown",
   "id": "fdcee497",
   "metadata": {},
   "source": [
    "## Weight e Bias"
   ]
  },
  {
   "cell_type": "markdown",
   "id": "2e554cdd",
   "metadata": {},
   "source": [
    "### Camada oculta 1"
   ]
  },
  {
   "cell_type": "code",
   "execution_count": 27,
   "id": "7ed9f6b3",
   "metadata": {},
   "outputs": [],
   "source": [
    "weights, biases = model.layers[0].get_weights()"
   ]
  },
  {
   "cell_type": "markdown",
   "id": "76524abc",
   "metadata": {},
   "source": [
    "Note que está transposto!"
   ]
  },
  {
   "cell_type": "code",
   "execution_count": 29,
   "id": "5c281108",
   "metadata": {},
   "outputs": [
    {
     "data": {
      "text/plain": [
       "(6, 12)"
      ]
     },
     "execution_count": 29,
     "metadata": {},
     "output_type": "execute_result"
    }
   ],
   "source": [
    "weights.shape"
   ]
  },
  {
   "cell_type": "markdown",
   "id": "14c792b7",
   "metadata": {},
   "source": [
    "1 bias por neurônio"
   ]
  },
  {
   "cell_type": "code",
   "execution_count": 24,
   "id": "902f148c",
   "metadata": {},
   "outputs": [
    {
     "data": {
      "text/plain": [
       "(12,)"
      ]
     },
     "execution_count": 24,
     "metadata": {},
     "output_type": "execute_result"
    }
   ],
   "source": [
    "biases.shape"
   ]
  },
  {
   "cell_type": "markdown",
   "id": "0b87779c",
   "metadata": {},
   "source": [
    "### Camada 2 (Output)"
   ]
  },
  {
   "cell_type": "code",
   "execution_count": 33,
   "id": "4c7f479e",
   "metadata": {},
   "outputs": [],
   "source": [
    "weights, biases = model.layers[1].get_weights()"
   ]
  },
  {
   "cell_type": "code",
   "execution_count": 34,
   "id": "e8df593f",
   "metadata": {},
   "outputs": [
    {
     "data": {
      "text/plain": [
       "(12, 1)"
      ]
     },
     "execution_count": 34,
     "metadata": {},
     "output_type": "execute_result"
    }
   ],
   "source": [
    "weights.shape"
   ]
  },
  {
   "cell_type": "code",
   "execution_count": 35,
   "id": "8eab4d25",
   "metadata": {},
   "outputs": [
    {
     "data": {
      "text/plain": [
       "(1,)"
      ]
     },
     "execution_count": 35,
     "metadata": {},
     "output_type": "execute_result"
    }
   ],
   "source": [
    "biases.shape"
   ]
  },
  {
   "cell_type": "markdown",
   "id": "9edce986",
   "metadata": {},
   "source": [
    "### Diagrama dos neurônios e conexões"
   ]
  },
  {
   "cell_type": "code",
   "execution_count": 37,
   "id": "f6efa8ea",
   "metadata": {},
   "outputs": [
    {
     "name": "stderr",
     "output_type": "stream",
     "text": [
      "/home/vortex/Documents/Fatec/Trabalhos/3º Ciclo/Cálculo/2R2N/.venv/lib/python3.12/site-packages/visualkeras/layered.py:86: UserWarning: The legend_text_spacing_offset parameter is deprecated and will be removed in a future release.\n",
      "  warnings.warn(\"The legend_text_spacing_offset parameter is deprecated and will be removed in a future release.\")\n",
      "/home/vortex/Documents/Fatec/Trabalhos/3º Ciclo/Cálculo/2R2N/.venv/lib/python3.12/site-packages/visualkeras/layered.py:86: UserWarning: The legend_text_spacing_offset parameter is deprecated and will be removed in a future release.\n",
      "  warnings.warn(\"The legend_text_spacing_offset parameter is deprecated and will be removed in a future release.\")\n",
      "/home/vortex/Documents/Fatec/Trabalhos/3º Ciclo/Cálculo/2R2N/.venv/lib/python3.12/site-packages/visualkeras/layered.py:86: UserWarning: The legend_text_spacing_offset parameter is deprecated and will be removed in a future release.\n",
      "  warnings.warn(\"The legend_text_spacing_offset parameter is deprecated and will be removed in a future release.\")\n"
     ]
    },
    {
     "data": {
      "image/png": "[encoded data removed]",
      "text/plain": [
       "<PIL.Image.Image image mode=RGBA size=77x27>"
      ]
     },
     "execution_count": 37,
     "metadata": {},
     "output_type": "execute_result"
    }
   ],
   "source": [
    "import visualkeras\n",
    "\n",
    "visualkeras.layered_view(model).show() # display using your system viewer\n",
    "visualkeras.layered_view(model, to_file='output.png') # write to disk\n",
    "visualkeras.layered_view(model, to_file='output.png').show() # write and show\n",
    "\n",
    "visualkeras.layered_view(model)"
   ]
  },
  {
   "cell_type": "code",
   "execution_count": null,
   "id": "4b70a919",
   "metadata": {},
   "outputs": [],
   "source": []
  }
 ],
 "metadata": {
  "kernelspec": {
   "display_name": ".venv",
   "language": "python",
   "name": "python3"
  },
  "language_info": {
   "codemirror_mode": {
    "name": "ipython",
    "version": 3
   },
   "file_extension": ".py",
   "mimetype": "text/x-python",
   "name": "python",
   "nbconvert_exporter": "python",
   "pygments_lexer": "ipython3",
   "version": "3.12.3"
  }
 },
 "nbformat": 4,
 "nbformat_minor": 5
}
