{
 "cells": [
  {
   "cell_type": "markdown",
   "id": "8d2459d6",
   "metadata": {},
   "source": [
    "# Multilayer Perceptron para a previsão de dados de precipitação"
   ]
  },
  {
   "cell_type": "markdown",
   "id": "4f70b165",
   "metadata": {},
   "source": [
    "Aplicar também PCA?"
   ]
  },
  {
   "cell_type": "markdown",
   "id": "408ee2af",
   "metadata": {},
   "source": [
    "Mensurar tempo de treino dos modelos"
   ]
  },
  {
   "cell_type": "markdown",
   "id": "bc83362b",
   "metadata": {},
   "source": [
    "## Importação dos dados"
   ]
  },
  {
   "cell_type": "code",
   "execution_count": 1,
   "id": "ac956dc5",
   "metadata": {},
   "outputs": [
    {
     "name": "stderr",
     "output_type": "stream",
     "text": [
      "2025-06-09 16:30:21.649721: I external/local_xla/xla/tsl/cuda/cudart_stub.cc:32] Could not find cuda drivers on your machine, GPU will not be used.\n",
      "2025-06-09 16:30:23.303753: I external/local_xla/xla/tsl/cuda/cudart_stub.cc:32] Could not find cuda drivers on your machine, GPU will not be used.\n",
      "2025-06-09 16:30:24.139262: E external/local_xla/xla/stream_executor/cuda/cuda_fft.cc:467] Unable to register cuFFT factory: Attempting to register factory for plugin cuFFT when one has already been registered\n",
      "WARNING: All log messages before absl::InitializeLog() is called are written to STDERR\n",
      "E0000 00:00:1749497424.873109   37223 cuda_dnn.cc:8579] Unable to register cuDNN factory: Attempting to register factory for plugin cuDNN when one has already been registered\n",
      "E0000 00:00:1749497425.071196   37223 cuda_blas.cc:1407] Unable to register cuBLAS factory: Attempting to register factory for plugin cuBLAS when one has already been registered\n",
      "W0000 00:00:1749497426.739165   37223 computation_placer.cc:177] computation placer already registered. Please check linkage and avoid linking the same target more than once.\n",
      "W0000 00:00:1749497426.739201   37223 computation_placer.cc:177] computation placer already registered. Please check linkage and avoid linking the same target more than once.\n",
      "W0000 00:00:1749497426.739204   37223 computation_placer.cc:177] computation placer already registered. Please check linkage and avoid linking the same target more than once.\n",
      "W0000 00:00:1749497426.739207   37223 computation_placer.cc:177] computation placer already registered. Please check linkage and avoid linking the same target more than once.\n",
      "2025-06-09 16:30:26.890227: I tensorflow/core/platform/cpu_feature_guard.cc:210] This TensorFlow binary is optimized to use available CPU instructions in performance-critical operations.\n",
      "To enable the following instructions: AVX2 FMA, in other operations, rebuild TensorFlow with the appropriate compiler flags.\n"
     ]
    }
   ],
   "source": [
    "import pandas as pd\n",
    "import tensorflow as tf\n",
    "from tensorflow.keras.models import Sequential, load_model\n",
    "from tensorflow.keras.layers import Dense, Input\n",
    "from tensorflow.keras.callbacks import EarlyStopping\n",
    "from sklearn.metrics import confusion_matrix, ConfusionMatrixDisplay\n",
    "from sklearn.model_selection import train_test_split\n",
    "import matplotlib.pyplot as plt\n",
    "import glob\n",
    "from sklearn.decomposition import PCA\n",
    "\n",
    "import time as t\n",
    "import pickle"
   ]
  },
  {
   "cell_type": "code",
   "execution_count": 2,
   "id": "44a68fcd",
   "metadata": {},
   "outputs": [],
   "source": [
    "df = pd.read_csv(\"Banco de dados/inmet_filtrado_mirante.csv\", index_col=0)"
   ]
  },
  {
   "cell_type": "markdown",
   "id": "d3189278",
   "metadata": {},
   "source": [
    "## Limpeza dos dados"
   ]
  },
  {
   "cell_type": "markdown",
   "id": "63e70f2c",
   "metadata": {},
   "source": [
    "### Normalização dos dados"
   ]
  },
  {
   "cell_type": "markdown",
   "id": "b9df7112",
   "metadata": {},
   "source": [
    "A fórmula é: $\\tilde{x_i} = \\dfrac{x_{i} - \\overline{x}}{\\sigma}$"
   ]
  },
  {
   "cell_type": "code",
   "execution_count": 3,
   "id": "dda0f331",
   "metadata": {},
   "outputs": [
    {
     "data": {
      "application/vnd.microsoft.datawrangler.viewer.v0+json": {
       "columns": [
        {
         "name": "index",
         "rawType": "object",
         "type": "string"
        },
        {
         "name": "0",
         "rawType": "float64",
         "type": "float"
        }
       ],
       "ref": "b0859105-15d9-4f20-8b01-48f716fc397d",
       "rows": [
        [
         "PRECIPITACAO TOTAL, HORARIO(mm)",
         "0.1819722638212904"
        ],
        [
         "TEMPERATURA DO PONTO DE ORVALHO(°C)",
         "14.126436337826032"
        ],
        [
         "TEMPERATURA ORVALHO MAX. NA HORA ANT. (AUT)(°C)",
         "14.627582912142767"
        ],
        [
         "TEMPERATURA ORVALHO MIN. NA HORA ANT. (AUT)(°C)",
         "13.652488924248097"
        ],
        [
         "UMIDADE REL. MAX. NA HORA ANT. (AUT)(%)",
         "71.87547968925496"
        ],
        [
         "UMIDADE RELATIVA DO AR, HORARIA(%)",
         "69.3460080494197"
        ],
        [
         "VENTO, RAJADA MAXIMA(m/s)",
         "5.225671954948209"
        ]
       ],
       "shape": {
        "columns": 1,
        "rows": 7
       }
      },
      "text/plain": [
       "PRECIPITACAO TOTAL, HORARIO(mm)                     0.181972\n",
       "TEMPERATURA DO PONTO DE ORVALHO(°C)                14.126436\n",
       "TEMPERATURA ORVALHO MAX. NA HORA ANT. (AUT)(°C)    14.627583\n",
       "TEMPERATURA ORVALHO MIN. NA HORA ANT. (AUT)(°C)    13.652489\n",
       "UMIDADE REL. MAX. NA HORA ANT. (AUT)(%)            71.875480\n",
       "UMIDADE RELATIVA DO AR, HORARIA(%)                 69.346008\n",
       "VENTO, RAJADA MAXIMA(m/s)                           5.225672\n",
       "dtype: float64"
      ]
     },
     "execution_count": 3,
     "metadata": {},
     "output_type": "execute_result"
    }
   ],
   "source": [
    "df.mean()"
   ]
  },
  {
   "cell_type": "code",
   "execution_count": 4,
   "id": "1941012f",
   "metadata": {},
   "outputs": [],
   "source": [
    "df_norm = (df - df.mean())/df.std()\n",
    "df_norm[\"PRECIPITACAO TOTAL, HORARIO(mm)\"] = df[\"PRECIPITACAO TOTAL, HORARIO(mm)\"]"
   ]
  },
  {
   "cell_type": "code",
   "execution_count": 5,
   "id": "d1529987",
   "metadata": {},
   "outputs": [
    {
     "data": {
      "application/vnd.microsoft.datawrangler.viewer.v0+json": {
       "columns": [
        {
         "name": "Data",
         "rawType": "object",
         "type": "string"
        },
        {
         "name": "PRECIPITACAO TOTAL, HORARIO(mm)",
         "rawType": "float64",
         "type": "float"
        },
        {
         "name": "TEMPERATURA DO PONTO DE ORVALHO(°C)",
         "rawType": "float64",
         "type": "float"
        },
        {
         "name": "TEMPERATURA ORVALHO MAX. NA HORA ANT. (AUT)(°C)",
         "rawType": "float64",
         "type": "float"
        },
        {
         "name": "TEMPERATURA ORVALHO MIN. NA HORA ANT. (AUT)(°C)",
         "rawType": "float64",
         "type": "float"
        },
        {
         "name": "UMIDADE REL. MAX. NA HORA ANT. (AUT)(%)",
         "rawType": "float64",
         "type": "float"
        },
        {
         "name": "UMIDADE RELATIVA DO AR, HORARIA(%)",
         "rawType": "float64",
         "type": "float"
        },
        {
         "name": "VENTO, RAJADA MAXIMA(m/s)",
         "rawType": "float64",
         "type": "float"
        }
       ],
       "ref": "a25f730e-c85b-406a-b621-2a3c7e342638",
       "rows": [
        [
         "2010-10-10 00:00:00",
         "0.0",
         "-0.711163266061996",
         "-0.8672640872217225",
         "-0.6731331838893458",
         "0.9025220916122799",
         "0.9958759733298047",
         "0.7572621573058571"
        ],
        [
         "2010-10-10 01:00:00",
         "0.0",
         "-0.7382403840495823",
         "-0.8395345557725453",
         "-0.6203899043793172",
         "0.9025220916122799",
         "0.8266435454260859",
         "0.3737077833487206"
        ]
       ],
       "shape": {
        "columns": 7,
        "rows": 2
       }
      },
      "text/html": [
       "<div>\n",
       "<style scoped>\n",
       "    .dataframe tbody tr th:only-of-type {\n",
       "        vertical-align: middle;\n",
       "    }\n",
       "\n",
       "    .dataframe tbody tr th {\n",
       "        vertical-align: top;\n",
       "    }\n",
       "\n",
       "    .dataframe thead th {\n",
       "        text-align: right;\n",
       "    }\n",
       "</style>\n",
       "<table border=\"1\" class=\"dataframe\">\n",
       "  <thead>\n",
       "    <tr style=\"text-align: right;\">\n",
       "      <th></th>\n",
       "      <th>PRECIPITACAO TOTAL, HORARIO(mm)</th>\n",
       "      <th>TEMPERATURA DO PONTO DE ORVALHO(°C)</th>\n",
       "      <th>TEMPERATURA ORVALHO MAX. NA HORA ANT. (AUT)(°C)</th>\n",
       "      <th>TEMPERATURA ORVALHO MIN. NA HORA ANT. (AUT)(°C)</th>\n",
       "      <th>UMIDADE REL. MAX. NA HORA ANT. (AUT)(%)</th>\n",
       "      <th>UMIDADE RELATIVA DO AR, HORARIA(%)</th>\n",
       "      <th>VENTO, RAJADA MAXIMA(m/s)</th>\n",
       "    </tr>\n",
       "    <tr>\n",
       "      <th>Data</th>\n",
       "      <th></th>\n",
       "      <th></th>\n",
       "      <th></th>\n",
       "      <th></th>\n",
       "      <th></th>\n",
       "      <th></th>\n",
       "      <th></th>\n",
       "    </tr>\n",
       "  </thead>\n",
       "  <tbody>\n",
       "    <tr>\n",
       "      <th>2010-10-10 00:00:00</th>\n",
       "      <td>0.0</td>\n",
       "      <td>-0.711163</td>\n",
       "      <td>-0.867264</td>\n",
       "      <td>-0.673133</td>\n",
       "      <td>0.902522</td>\n",
       "      <td>0.995876</td>\n",
       "      <td>0.757262</td>\n",
       "    </tr>\n",
       "    <tr>\n",
       "      <th>2010-10-10 01:00:00</th>\n",
       "      <td>0.0</td>\n",
       "      <td>-0.738240</td>\n",
       "      <td>-0.839535</td>\n",
       "      <td>-0.620390</td>\n",
       "      <td>0.902522</td>\n",
       "      <td>0.826644</td>\n",
       "      <td>0.373708</td>\n",
       "    </tr>\n",
       "  </tbody>\n",
       "</table>\n",
       "</div>"
      ],
      "text/plain": [
       "                     PRECIPITACAO TOTAL, HORARIO(mm)  \\\n",
       "Data                                                   \n",
       "2010-10-10 00:00:00                              0.0   \n",
       "2010-10-10 01:00:00                              0.0   \n",
       "\n",
       "                     TEMPERATURA DO PONTO DE ORVALHO(°C)  \\\n",
       "Data                                                       \n",
       "2010-10-10 00:00:00                            -0.711163   \n",
       "2010-10-10 01:00:00                            -0.738240   \n",
       "\n",
       "                     TEMPERATURA ORVALHO MAX. NA HORA ANT. (AUT)(°C)  \\\n",
       "Data                                                                   \n",
       "2010-10-10 00:00:00                                        -0.867264   \n",
       "2010-10-10 01:00:00                                        -0.839535   \n",
       "\n",
       "                     TEMPERATURA ORVALHO MIN. NA HORA ANT. (AUT)(°C)  \\\n",
       "Data                                                                   \n",
       "2010-10-10 00:00:00                                        -0.673133   \n",
       "2010-10-10 01:00:00                                        -0.620390   \n",
       "\n",
       "                     UMIDADE REL. MAX. NA HORA ANT. (AUT)(%)  \\\n",
       "Data                                                           \n",
       "2010-10-10 00:00:00                                 0.902522   \n",
       "2010-10-10 01:00:00                                 0.902522   \n",
       "\n",
       "                     UMIDADE RELATIVA DO AR, HORARIA(%)  \\\n",
       "Data                                                      \n",
       "2010-10-10 00:00:00                            0.995876   \n",
       "2010-10-10 01:00:00                            0.826644   \n",
       "\n",
       "                     VENTO, RAJADA MAXIMA(m/s)  \n",
       "Data                                            \n",
       "2010-10-10 00:00:00                   0.757262  \n",
       "2010-10-10 01:00:00                   0.373708  "
      ]
     },
     "execution_count": 5,
     "metadata": {},
     "output_type": "execute_result"
    }
   ],
   "source": [
    "df_norm.head(2)"
   ]
  },
  {
   "cell_type": "markdown",
   "id": "cad2bac5",
   "metadata": {},
   "source": [
    "### Simplificação e separação dos dados"
   ]
  },
  {
   "cell_type": "code",
   "execution_count": 6,
   "id": "09b3a02f",
   "metadata": {},
   "outputs": [],
   "source": [
    "filtrar_ = lambda value: int(value > 0)"
   ]
  },
  {
   "cell_type": "code",
   "execution_count": 7,
   "id": "6f252b25",
   "metadata": {},
   "outputs": [],
   "source": [
    "features = df_norm.columns[1:]"
   ]
  },
  {
   "cell_type": "code",
   "execution_count": 8,
   "id": "91064233",
   "metadata": {},
   "outputs": [],
   "source": [
    "X = df_norm[features]\n",
    "Y = df_norm['PRECIPITACAO TOTAL, HORARIO(mm)']\n",
    "Y = Y.apply(filtrar_)"
   ]
  },
  {
   "cell_type": "markdown",
   "id": "75cda231",
   "metadata": {},
   "source": [
    "## Separação dos dados"
   ]
  },
  {
   "cell_type": "code",
   "execution_count": 9,
   "id": "08d0e7d7",
   "metadata": {},
   "outputs": [],
   "source": [
    "x_train, x_test, y_train, y_test = train_test_split(X, Y, test_size=0.2, random_state=42)"
   ]
  },
  {
   "cell_type": "markdown",
   "id": "dd661844",
   "metadata": {},
   "source": [
    "## Criação do modelo"
   ]
  },
  {
   "cell_type": "code",
   "execution_count": 10,
   "id": "a7cbfe31",
   "metadata": {},
   "outputs": [
    {
     "name": "stderr",
     "output_type": "stream",
     "text": [
      "2025-06-09 16:31:06.180314: E external/local_xla/xla/stream_executor/cuda/cuda_platform.cc:51] failed call to cuInit: INTERNAL: CUDA error: Failed call to cuInit: UNKNOWN ERROR (303)\n"
     ]
    },
    {
     "data": {
      "text/html": [
       "<pre style=\"white-space:pre;overflow-x:auto;line-height:normal;font-family:Menlo,'DejaVu Sans Mono',consolas,'Courier New',monospace\"><span style=\"font-weight: bold\">Model: \"sequential\"</span>\n",
       "</pre>\n"
      ],
      "text/plain": [
       "\u001b[1mModel: \"sequential\"\u001b[0m\n"
      ]
     },
     "metadata": {},
     "output_type": "display_data"
    },
    {
     "data": {
      "text/html": [
       "<pre style=\"white-space:pre;overflow-x:auto;line-height:normal;font-family:Menlo,'DejaVu Sans Mono',consolas,'Courier New',monospace\">┏━━━━━━━━━━━━━━━━━━━━━━━━━━━━━━━━━┳━━━━━━━━━━━━━━━━━━━━━━━━┳━━━━━━━━━━━━━━━┓\n",
       "┃<span style=\"font-weight: bold\"> Layer (type)                    </span>┃<span style=\"font-weight: bold\"> Output Shape           </span>┃<span style=\"font-weight: bold\">       Param # </span>┃\n",
       "┡━━━━━━━━━━━━━━━━━━━━━━━━━━━━━━━━━╇━━━━━━━━━━━━━━━━━━━━━━━━╇━━━━━━━━━━━━━━━┩\n",
       "│ dense (<span style=\"color: #0087ff; text-decoration-color: #0087ff\">Dense</span>)                   │ (<span style=\"color: #00d7ff; text-decoration-color: #00d7ff\">None</span>, <span style=\"color: #00af00; text-decoration-color: #00af00\">4</span>)              │            <span style=\"color: #00af00; text-decoration-color: #00af00\">28</span> │\n",
       "├─────────────────────────────────┼────────────────────────┼───────────────┤\n",
       "│ dense_1 (<span style=\"color: #0087ff; text-decoration-color: #0087ff\">Dense</span>)                 │ (<span style=\"color: #00d7ff; text-decoration-color: #00d7ff\">None</span>, <span style=\"color: #00af00; text-decoration-color: #00af00\">1</span>)              │             <span style=\"color: #00af00; text-decoration-color: #00af00\">5</span> │\n",
       "└─────────────────────────────────┴────────────────────────┴───────────────┘\n",
       "</pre>\n"
      ],
      "text/plain": [
       "┏━━━━━━━━━━━━━━━━━━━━━━━━━━━━━━━━━┳━━━━━━━━━━━━━━━━━━━━━━━━┳━━━━━━━━━━━━━━━┓\n",
       "┃\u001b[1m \u001b[0m\u001b[1mLayer (type)                   \u001b[0m\u001b[1m \u001b[0m┃\u001b[1m \u001b[0m\u001b[1mOutput Shape          \u001b[0m\u001b[1m \u001b[0m┃\u001b[1m \u001b[0m\u001b[1m      Param #\u001b[0m\u001b[1m \u001b[0m┃\n",
       "┡━━━━━━━━━━━━━━━━━━━━━━━━━━━━━━━━━╇━━━━━━━━━━━━━━━━━━━━━━━━╇━━━━━━━━━━━━━━━┩\n",
       "│ dense (\u001b[38;5;33mDense\u001b[0m)                   │ (\u001b[38;5;45mNone\u001b[0m, \u001b[38;5;34m4\u001b[0m)              │            \u001b[38;5;34m28\u001b[0m │\n",
       "├─────────────────────────────────┼────────────────────────┼───────────────┤\n",
       "│ dense_1 (\u001b[38;5;33mDense\u001b[0m)                 │ (\u001b[38;5;45mNone\u001b[0m, \u001b[38;5;34m1\u001b[0m)              │             \u001b[38;5;34m5\u001b[0m │\n",
       "└─────────────────────────────────┴────────────────────────┴───────────────┘\n"
      ]
     },
     "metadata": {},
     "output_type": "display_data"
    },
    {
     "data": {
      "text/html": [
       "<pre style=\"white-space:pre;overflow-x:auto;line-height:normal;font-family:Menlo,'DejaVu Sans Mono',consolas,'Courier New',monospace\"><span style=\"font-weight: bold\"> Total params: </span><span style=\"color: #00af00; text-decoration-color: #00af00\">33</span> (132.00 B)\n",
       "</pre>\n"
      ],
      "text/plain": [
       "\u001b[1m Total params: \u001b[0m\u001b[38;5;34m33\u001b[0m (132.00 B)\n"
      ]
     },
     "metadata": {},
     "output_type": "display_data"
    },
    {
     "data": {
      "text/html": [
       "<pre style=\"white-space:pre;overflow-x:auto;line-height:normal;font-family:Menlo,'DejaVu Sans Mono',consolas,'Courier New',monospace\"><span style=\"font-weight: bold\"> Trainable params: </span><span style=\"color: #00af00; text-decoration-color: #00af00\">33</span> (132.00 B)\n",
       "</pre>\n"
      ],
      "text/plain": [
       "\u001b[1m Trainable params: \u001b[0m\u001b[38;5;34m33\u001b[0m (132.00 B)\n"
      ]
     },
     "metadata": {},
     "output_type": "display_data"
    },
    {
     "data": {
      "text/html": [
       "<pre style=\"white-space:pre;overflow-x:auto;line-height:normal;font-family:Menlo,'DejaVu Sans Mono',consolas,'Courier New',monospace\"><span style=\"font-weight: bold\"> Non-trainable params: </span><span style=\"color: #00af00; text-decoration-color: #00af00\">0</span> (0.00 B)\n",
       "</pre>\n"
      ],
      "text/plain": [
       "\u001b[1m Non-trainable params: \u001b[0m\u001b[38;5;34m0\u001b[0m (0.00 B)\n"
      ]
     },
     "metadata": {},
     "output_type": "display_data"
    }
   ],
   "source": [
    "model = Sequential([\n",
    "    Input(shape=(len(features),)), # Camada de Input\n",
    "    Dense(4, activation=\"sigmoid\"), # Camada oculta\n",
    "    Dense(1, activation=\"sigmoid\") # Camada de Output\n",
    "])\n",
    "model.summary()"
   ]
  },
  {
   "cell_type": "markdown",
   "id": "aa298279",
   "metadata": {},
   "source": [
    "O optimezer poderia ser uma string, no entanto, para brevidade nas explicações do relatório foi utlizado uma instância mesmo"
   ]
  },
  {
   "cell_type": "code",
   "execution_count": 11,
   "id": "c9f3082f",
   "metadata": {},
   "outputs": [],
   "source": [
    "early_stopping = EarlyStopping(monitor='val_loss', patience=5, restore_best_weights=True)\n",
    "model.compile(optimizer=tf.optimizers.Adam(),\n",
    "              loss='binary_crossentropy',\n",
    "              metrics=['accuracy'])"
   ]
  },
  {
   "cell_type": "markdown",
   "id": "510a6337",
   "metadata": {},
   "source": [
    "## Treino e resultados"
   ]
  },
  {
   "cell_type": "code",
   "execution_count": 12,
   "id": "6e51c858",
   "metadata": {},
   "outputs": [
    {
     "name": "stdout",
     "output_type": "stream",
     "text": [
      "Epoch 1/100\n",
      "\u001b[1m1026/1026\u001b[0m \u001b[32m━━━━━━━━━━━━━━━━━━━━\u001b[0m\u001b[37m\u001b[0m \u001b[1m5s\u001b[0m 3ms/step - accuracy: 0.9214 - loss: 0.4038 - val_accuracy: 0.9198 - val_loss: 0.2279\n",
      "Epoch 2/100\n",
      "\u001b[1m1026/1026\u001b[0m \u001b[32m━━━━━━━━━━━━━━━━━━━━\u001b[0m\u001b[37m\u001b[0m \u001b[1m3s\u001b[0m 3ms/step - accuracy: 0.9203 - loss: 0.2173 - val_accuracy: 0.9198 - val_loss: 0.2024\n",
      "Epoch 3/100\n",
      "\u001b[1m1026/1026\u001b[0m \u001b[32m━━━━━━━━━━━━━━━━━━━━\u001b[0m\u001b[37m\u001b[0m \u001b[1m3s\u001b[0m 3ms/step - accuracy: 0.9203 - loss: 0.1996 - val_accuracy: 0.9198 - val_loss: 0.1920\n",
      "Epoch 4/100\n",
      "\u001b[1m1026/1026\u001b[0m \u001b[32m━━━━━━━━━━━━━━━━━━━━\u001b[0m\u001b[37m\u001b[0m \u001b[1m3s\u001b[0m 3ms/step - accuracy: 0.9207 - loss: 0.1901 - val_accuracy: 0.9241 - val_loss: 0.1859\n",
      "Epoch 5/100\n",
      "\u001b[1m1026/1026\u001b[0m \u001b[32m━━━━━━━━━━━━━━━━━━━━\u001b[0m\u001b[37m\u001b[0m \u001b[1m3s\u001b[0m 3ms/step - accuracy: 0.9265 - loss: 0.1814 - val_accuracy: 0.9274 - val_loss: 0.1822\n",
      "Epoch 6/100\n",
      "\u001b[1m1026/1026\u001b[0m \u001b[32m━━━━━━━━━━━━━━━━━━━━\u001b[0m\u001b[37m\u001b[0m \u001b[1m3s\u001b[0m 3ms/step - accuracy: 0.9299 - loss: 0.1814 - val_accuracy: 0.9284 - val_loss: 0.1798\n",
      "Epoch 7/100\n",
      "\u001b[1m1026/1026\u001b[0m \u001b[32m━━━━━━━━━━━━━━━━━━━━\u001b[0m\u001b[37m\u001b[0m \u001b[1m3s\u001b[0m 3ms/step - accuracy: 0.9321 - loss: 0.1787 - val_accuracy: 0.9292 - val_loss: 0.1783\n",
      "Epoch 8/100\n",
      "\u001b[1m1026/1026\u001b[0m \u001b[32m━━━━━━━━━━━━━━━━━━━━\u001b[0m\u001b[37m\u001b[0m \u001b[1m3s\u001b[0m 3ms/step - accuracy: 0.9301 - loss: 0.1804 - val_accuracy: 0.9293 - val_loss: 0.1771\n",
      "Epoch 9/100\n",
      "\u001b[1m1026/1026\u001b[0m \u001b[32m━━━━━━━━━━━━━━━━━━━━\u001b[0m\u001b[37m\u001b[0m \u001b[1m3s\u001b[0m 3ms/step - accuracy: 0.9332 - loss: 0.1753 - val_accuracy: 0.9300 - val_loss: 0.1763\n",
      "Epoch 10/100\n",
      "\u001b[1m1026/1026\u001b[0m \u001b[32m━━━━━━━━━━━━━━━━━━━━\u001b[0m\u001b[37m\u001b[0m \u001b[1m3s\u001b[0m 3ms/step - accuracy: 0.9320 - loss: 0.1760 - val_accuracy: 0.9304 - val_loss: 0.1755\n",
      "Epoch 11/100\n",
      "\u001b[1m1026/1026\u001b[0m \u001b[32m━━━━━━━━━━━━━━━━━━━━\u001b[0m\u001b[37m\u001b[0m \u001b[1m3s\u001b[0m 3ms/step - accuracy: 0.9330 - loss: 0.1746 - val_accuracy: 0.9305 - val_loss: 0.1746\n",
      "Epoch 12/100\n",
      "\u001b[1m1026/1026\u001b[0m \u001b[32m━━━━━━━━━━━━━━━━━━━━\u001b[0m\u001b[37m\u001b[0m \u001b[1m3s\u001b[0m 3ms/step - accuracy: 0.9324 - loss: 0.1745 - val_accuracy: 0.9301 - val_loss: 0.1745\n",
      "Epoch 13/100\n",
      "\u001b[1m1026/1026\u001b[0m \u001b[32m━━━━━━━━━━━━━━━━━━━━\u001b[0m\u001b[37m\u001b[0m \u001b[1m3s\u001b[0m 3ms/step - accuracy: 0.9337 - loss: 0.1728 - val_accuracy: 0.9301 - val_loss: 0.1737\n",
      "Epoch 14/100\n",
      "\u001b[1m1026/1026\u001b[0m \u001b[32m━━━━━━━━━━━━━━━━━━━━\u001b[0m\u001b[37m\u001b[0m \u001b[1m3s\u001b[0m 3ms/step - accuracy: 0.9335 - loss: 0.1739 - val_accuracy: 0.9307 - val_loss: 0.1734\n",
      "Epoch 15/100\n",
      "\u001b[1m1026/1026\u001b[0m \u001b[32m━━━━━━━━━━━━━━━━━━━━\u001b[0m\u001b[37m\u001b[0m \u001b[1m3s\u001b[0m 3ms/step - accuracy: 0.9330 - loss: 0.1710 - val_accuracy: 0.9309 - val_loss: 0.1729\n",
      "Epoch 16/100\n",
      "\u001b[1m1026/1026\u001b[0m \u001b[32m━━━━━━━━━━━━━━━━━━━━\u001b[0m\u001b[37m\u001b[0m \u001b[1m3s\u001b[0m 3ms/step - accuracy: 0.9317 - loss: 0.1743 - val_accuracy: 0.9305 - val_loss: 0.1727\n",
      "Epoch 17/100\n",
      "\u001b[1m1026/1026\u001b[0m \u001b[32m━━━━━━━━━━━━━━━━━━━━\u001b[0m\u001b[37m\u001b[0m \u001b[1m3s\u001b[0m 3ms/step - accuracy: 0.9326 - loss: 0.1735 - val_accuracy: 0.9307 - val_loss: 0.1724\n",
      "Epoch 18/100\n",
      "\u001b[1m1026/1026\u001b[0m \u001b[32m━━━━━━━━━━━━━━━━━━━━\u001b[0m\u001b[37m\u001b[0m \u001b[1m3s\u001b[0m 3ms/step - accuracy: 0.9330 - loss: 0.1727 - val_accuracy: 0.9307 - val_loss: 0.1721\n",
      "Epoch 19/100\n",
      "\u001b[1m1026/1026\u001b[0m \u001b[32m━━━━━━━━━━━━━━━━━━━━\u001b[0m\u001b[37m\u001b[0m \u001b[1m3s\u001b[0m 3ms/step - accuracy: 0.9340 - loss: 0.1709 - val_accuracy: 0.9309 - val_loss: 0.1720\n",
      "Epoch 20/100\n",
      "\u001b[1m1026/1026\u001b[0m \u001b[32m━━━━━━━━━━━━━━━━━━━━\u001b[0m\u001b[37m\u001b[0m \u001b[1m3s\u001b[0m 3ms/step - accuracy: 0.9345 - loss: 0.1701 - val_accuracy: 0.9306 - val_loss: 0.1716\n",
      "Epoch 21/100\n",
      "\u001b[1m1026/1026\u001b[0m \u001b[32m━━━━━━━━━━━━━━━━━━━━\u001b[0m\u001b[37m\u001b[0m \u001b[1m3s\u001b[0m 3ms/step - accuracy: 0.9332 - loss: 0.1729 - val_accuracy: 0.9306 - val_loss: 0.1715\n",
      "Epoch 22/100\n",
      "\u001b[1m1026/1026\u001b[0m \u001b[32m━━━━━━━━━━━━━━━━━━━━\u001b[0m\u001b[37m\u001b[0m \u001b[1m4s\u001b[0m 3ms/step - accuracy: 0.9326 - loss: 0.1714 - val_accuracy: 0.9311 - val_loss: 0.1713\n",
      "Epoch 23/100\n",
      "\u001b[1m1026/1026\u001b[0m \u001b[32m━━━━━━━━━━━━━━━━━━━━\u001b[0m\u001b[37m\u001b[0m \u001b[1m3s\u001b[0m 3ms/step - accuracy: 0.9339 - loss: 0.1703 - val_accuracy: 0.9308 - val_loss: 0.1710\n",
      "Epoch 24/100\n",
      "\u001b[1m1026/1026\u001b[0m \u001b[32m━━━━━━━━━━━━━━━━━━━━\u001b[0m\u001b[37m\u001b[0m \u001b[1m3s\u001b[0m 3ms/step - accuracy: 0.9332 - loss: 0.1705 - val_accuracy: 0.9311 - val_loss: 0.1710\n",
      "Epoch 25/100\n",
      "\u001b[1m1026/1026\u001b[0m \u001b[32m━━━━━━━━━━━━━━━━━━━━\u001b[0m\u001b[37m\u001b[0m \u001b[1m3s\u001b[0m 3ms/step - accuracy: 0.9330 - loss: 0.1692 - val_accuracy: 0.9311 - val_loss: 0.1710\n",
      "Epoch 26/100\n",
      "\u001b[1m1026/1026\u001b[0m \u001b[32m━━━━━━━━━━━━━━━━━━━━\u001b[0m\u001b[37m\u001b[0m \u001b[1m3s\u001b[0m 3ms/step - accuracy: 0.9337 - loss: 0.1704 - val_accuracy: 0.9314 - val_loss: 0.1706\n",
      "Epoch 27/100\n",
      "\u001b[1m1026/1026\u001b[0m \u001b[32m━━━━━━━━━━━━━━━━━━━━\u001b[0m\u001b[37m\u001b[0m \u001b[1m3s\u001b[0m 3ms/step - accuracy: 0.9345 - loss: 0.1681 - val_accuracy: 0.9310 - val_loss: 0.1706\n",
      "Epoch 28/100\n",
      "\u001b[1m1026/1026\u001b[0m \u001b[32m━━━━━━━━━━━━━━━━━━━━\u001b[0m\u001b[37m\u001b[0m \u001b[1m3s\u001b[0m 3ms/step - accuracy: 0.9338 - loss: 0.1697 - val_accuracy: 0.9312 - val_loss: 0.1704\n",
      "Epoch 29/100\n",
      "\u001b[1m1026/1026\u001b[0m \u001b[32m━━━━━━━━━━━━━━━━━━━━\u001b[0m\u001b[37m\u001b[0m \u001b[1m3s\u001b[0m 3ms/step - accuracy: 0.9352 - loss: 0.1685 - val_accuracy: 0.9312 - val_loss: 0.1701\n",
      "Epoch 30/100\n",
      "\u001b[1m1026/1026\u001b[0m \u001b[32m━━━━━━━━━━━━━━━━━━━━\u001b[0m\u001b[37m\u001b[0m \u001b[1m3s\u001b[0m 3ms/step - accuracy: 0.9338 - loss: 0.1694 - val_accuracy: 0.9314 - val_loss: 0.1700\n",
      "Epoch 31/100\n",
      "\u001b[1m1026/1026\u001b[0m \u001b[32m━━━━━━━━━━━━━━━━━━━━\u001b[0m\u001b[37m\u001b[0m \u001b[1m3s\u001b[0m 3ms/step - accuracy: 0.9350 - loss: 0.1666 - val_accuracy: 0.9314 - val_loss: 0.1699\n",
      "Epoch 32/100\n",
      "\u001b[1m1026/1026\u001b[0m \u001b[32m━━━━━━━━━━━━━━━━━━━━\u001b[0m\u001b[37m\u001b[0m \u001b[1m3s\u001b[0m 3ms/step - accuracy: 0.9319 - loss: 0.1731 - val_accuracy: 0.9314 - val_loss: 0.1698\n",
      "Epoch 33/100\n",
      "\u001b[1m1026/1026\u001b[0m \u001b[32m━━━━━━━━━━━━━━━━━━━━\u001b[0m\u001b[37m\u001b[0m \u001b[1m3s\u001b[0m 3ms/step - accuracy: 0.9348 - loss: 0.1674 - val_accuracy: 0.9315 - val_loss: 0.1697\n",
      "Epoch 34/100\n",
      "\u001b[1m1026/1026\u001b[0m \u001b[32m━━━━━━━━━━━━━━━━━━━━\u001b[0m\u001b[37m\u001b[0m \u001b[1m3s\u001b[0m 3ms/step - accuracy: 0.9347 - loss: 0.1676 - val_accuracy: 0.9317 - val_loss: 0.1695\n",
      "Epoch 35/100\n",
      "\u001b[1m1026/1026\u001b[0m \u001b[32m━━━━━━━━━━━━━━━━━━━━\u001b[0m\u001b[37m\u001b[0m \u001b[1m3s\u001b[0m 3ms/step - accuracy: 0.9335 - loss: 0.1681 - val_accuracy: 0.9314 - val_loss: 0.1694\n",
      "Epoch 36/100\n",
      "\u001b[1m1026/1026\u001b[0m \u001b[32m━━━━━━━━━━━━━━━━━━━━\u001b[0m\u001b[37m\u001b[0m \u001b[1m3s\u001b[0m 3ms/step - accuracy: 0.9329 - loss: 0.1710 - val_accuracy: 0.9314 - val_loss: 0.1692\n",
      "Epoch 37/100\n",
      "\u001b[1m1026/1026\u001b[0m \u001b[32m━━━━━━━━━━━━━━━━━━━━\u001b[0m\u001b[37m\u001b[0m \u001b[1m3s\u001b[0m 3ms/step - accuracy: 0.9345 - loss: 0.1683 - val_accuracy: 0.9315 - val_loss: 0.1691\n",
      "Epoch 38/100\n",
      "\u001b[1m1026/1026\u001b[0m \u001b[32m━━━━━━━━━━━━━━━━━━━━\u001b[0m\u001b[37m\u001b[0m \u001b[1m3s\u001b[0m 3ms/step - accuracy: 0.9335 - loss: 0.1684 - val_accuracy: 0.9315 - val_loss: 0.1690\n",
      "Epoch 39/100\n",
      "\u001b[1m1026/1026\u001b[0m \u001b[32m━━━━━━━━━━━━━━━━━━━━\u001b[0m\u001b[37m\u001b[0m \u001b[1m3s\u001b[0m 3ms/step - accuracy: 0.9347 - loss: 0.1674 - val_accuracy: 0.9315 - val_loss: 0.1690\n",
      "Epoch 40/100\n",
      "\u001b[1m1026/1026\u001b[0m \u001b[32m━━━━━━━━━━━━━━━━━━━━\u001b[0m\u001b[37m\u001b[0m \u001b[1m3s\u001b[0m 3ms/step - accuracy: 0.9326 - loss: 0.1707 - val_accuracy: 0.9319 - val_loss: 0.1688\n",
      "Epoch 41/100\n",
      "\u001b[1m1026/1026\u001b[0m \u001b[32m━━━━━━━━━━━━━━━━━━━━\u001b[0m\u001b[37m\u001b[0m \u001b[1m3s\u001b[0m 3ms/step - accuracy: 0.9349 - loss: 0.1669 - val_accuracy: 0.9318 - val_loss: 0.1686\n",
      "Epoch 42/100\n",
      "\u001b[1m1026/1026\u001b[0m \u001b[32m━━━━━━━━━━━━━━━━━━━━\u001b[0m\u001b[37m\u001b[0m \u001b[1m3s\u001b[0m 3ms/step - accuracy: 0.9344 - loss: 0.1660 - val_accuracy: 0.9320 - val_loss: 0.1685\n",
      "Epoch 43/100\n",
      "\u001b[1m1026/1026\u001b[0m \u001b[32m━━━━━━━━━━━━━━━━━━━━\u001b[0m\u001b[37m\u001b[0m \u001b[1m3s\u001b[0m 3ms/step - accuracy: 0.9338 - loss: 0.1694 - val_accuracy: 0.9317 - val_loss: 0.1685\n",
      "Epoch 44/100\n",
      "\u001b[1m1026/1026\u001b[0m \u001b[32m━━━━━━━━━━━━━━━━━━━━\u001b[0m\u001b[37m\u001b[0m \u001b[1m3s\u001b[0m 3ms/step - accuracy: 0.9332 - loss: 0.1701 - val_accuracy: 0.9321 - val_loss: 0.1683\n",
      "Epoch 45/100\n",
      "\u001b[1m1026/1026\u001b[0m \u001b[32m━━━━━━━━━━━━━━━━━━━━\u001b[0m\u001b[37m\u001b[0m \u001b[1m3s\u001b[0m 3ms/step - accuracy: 0.9343 - loss: 0.1684 - val_accuracy: 0.9319 - val_loss: 0.1682\n",
      "Epoch 46/100\n",
      "\u001b[1m1026/1026\u001b[0m \u001b[32m━━━━━━━━━━━━━━━━━━━━\u001b[0m\u001b[37m\u001b[0m \u001b[1m3s\u001b[0m 3ms/step - accuracy: 0.9352 - loss: 0.1659 - val_accuracy: 0.9321 - val_loss: 0.1681\n",
      "Epoch 47/100\n",
      "\u001b[1m1026/1026\u001b[0m \u001b[32m━━━━━━━━━━━━━━━━━━━━\u001b[0m\u001b[37m\u001b[0m \u001b[1m3s\u001b[0m 3ms/step - accuracy: 0.9355 - loss: 0.1651 - val_accuracy: 0.9321 - val_loss: 0.1681\n",
      "Epoch 48/100\n",
      "\u001b[1m1026/1026\u001b[0m \u001b[32m━━━━━━━━━━━━━━━━━━━━\u001b[0m\u001b[37m\u001b[0m \u001b[1m3s\u001b[0m 3ms/step - accuracy: 0.9331 - loss: 0.1695 - val_accuracy: 0.9321 - val_loss: 0.1680\n",
      "Epoch 49/100\n",
      "\u001b[1m1026/1026\u001b[0m \u001b[32m━━━━━━━━━━━━━━━━━━━━\u001b[0m\u001b[37m\u001b[0m \u001b[1m3s\u001b[0m 3ms/step - accuracy: 0.9350 - loss: 0.1662 - val_accuracy: 0.9326 - val_loss: 0.1678\n",
      "Epoch 50/100\n",
      "\u001b[1m1026/1026\u001b[0m \u001b[32m━━━━━━━━━━━━━━━━━━━━\u001b[0m\u001b[37m\u001b[0m \u001b[1m3s\u001b[0m 3ms/step - accuracy: 0.9349 - loss: 0.1667 - val_accuracy: 0.9325 - val_loss: 0.1678\n",
      "Epoch 51/100\n",
      "\u001b[1m1026/1026\u001b[0m \u001b[32m━━━━━━━━━━━━━━━━━━━━\u001b[0m\u001b[37m\u001b[0m \u001b[1m3s\u001b[0m 3ms/step - accuracy: 0.9342 - loss: 0.1687 - val_accuracy: 0.9327 - val_loss: 0.1677\n",
      "Epoch 52/100\n",
      "\u001b[1m1026/1026\u001b[0m \u001b[32m━━━━━━━━━━━━━━━━━━━━\u001b[0m\u001b[37m\u001b[0m \u001b[1m3s\u001b[0m 3ms/step - accuracy: 0.9350 - loss: 0.1677 - val_accuracy: 0.9326 - val_loss: 0.1675\n",
      "Epoch 53/100\n",
      "\u001b[1m1026/1026\u001b[0m \u001b[32m━━━━━━━━━━━━━━━━━━━━\u001b[0m\u001b[37m\u001b[0m \u001b[1m3s\u001b[0m 3ms/step - accuracy: 0.9346 - loss: 0.1665 - val_accuracy: 0.9327 - val_loss: 0.1675\n",
      "Epoch 54/100\n",
      "\u001b[1m1026/1026\u001b[0m \u001b[32m━━━━━━━━━━━━━━━━━━━━\u001b[0m\u001b[37m\u001b[0m \u001b[1m3s\u001b[0m 3ms/step - accuracy: 0.9349 - loss: 0.1674 - val_accuracy: 0.9326 - val_loss: 0.1673\n",
      "Epoch 55/100\n",
      "\u001b[1m1026/1026\u001b[0m \u001b[32m━━━━━━━━━━━━━━━━━━━━\u001b[0m\u001b[37m\u001b[0m \u001b[1m3s\u001b[0m 3ms/step - accuracy: 0.9349 - loss: 0.1665 - val_accuracy: 0.9329 - val_loss: 0.1675\n",
      "Epoch 56/100\n",
      "\u001b[1m1026/1026\u001b[0m \u001b[32m━━━━━━━━━━━━━━━━━━━━\u001b[0m\u001b[37m\u001b[0m \u001b[1m3s\u001b[0m 3ms/step - accuracy: 0.9344 - loss: 0.1696 - val_accuracy: 0.9328 - val_loss: 0.1673\n",
      "Epoch 57/100\n",
      "\u001b[1m1026/1026\u001b[0m \u001b[32m━━━━━━━━━━━━━━━━━━━━\u001b[0m\u001b[37m\u001b[0m \u001b[1m3s\u001b[0m 3ms/step - accuracy: 0.9355 - loss: 0.1643 - val_accuracy: 0.9327 - val_loss: 0.1671\n",
      "Epoch 58/100\n",
      "\u001b[1m1026/1026\u001b[0m \u001b[32m━━━━━━━━━━━━━━━━━━━━\u001b[0m\u001b[37m\u001b[0m \u001b[1m3s\u001b[0m 3ms/step - accuracy: 0.9350 - loss: 0.1656 - val_accuracy: 0.9328 - val_loss: 0.1671\n",
      "Epoch 59/100\n",
      "\u001b[1m1026/1026\u001b[0m \u001b[32m━━━━━━━━━━━━━━━━━━━━\u001b[0m\u001b[37m\u001b[0m \u001b[1m3s\u001b[0m 3ms/step - accuracy: 0.9343 - loss: 0.1681 - val_accuracy: 0.9329 - val_loss: 0.1669\n",
      "Epoch 60/100\n",
      "\u001b[1m1026/1026\u001b[0m \u001b[32m━━━━━━━━━━━━━━━━━━━━\u001b[0m\u001b[37m\u001b[0m \u001b[1m3s\u001b[0m 3ms/step - accuracy: 0.9356 - loss: 0.1657 - val_accuracy: 0.9328 - val_loss: 0.1668\n",
      "Epoch 61/100\n",
      "\u001b[1m1026/1026\u001b[0m \u001b[32m━━━━━━━━━━━━━━━━━━━━\u001b[0m\u001b[37m\u001b[0m \u001b[1m3s\u001b[0m 3ms/step - accuracy: 0.9344 - loss: 0.1666 - val_accuracy: 0.9330 - val_loss: 0.1668\n",
      "Epoch 62/100\n",
      "\u001b[1m1026/1026\u001b[0m \u001b[32m━━━━━━━━━━━━━━━━━━━━\u001b[0m\u001b[37m\u001b[0m \u001b[1m3s\u001b[0m 3ms/step - accuracy: 0.9352 - loss: 0.1664 - val_accuracy: 0.9329 - val_loss: 0.1667\n",
      "Epoch 63/100\n",
      "\u001b[1m1026/1026\u001b[0m \u001b[32m━━━━━━━━━━━━━━━━━━━━\u001b[0m\u001b[37m\u001b[0m \u001b[1m3s\u001b[0m 3ms/step - accuracy: 0.9352 - loss: 0.1665 - val_accuracy: 0.9328 - val_loss: 0.1665\n",
      "Epoch 64/100\n",
      "\u001b[1m1026/1026\u001b[0m \u001b[32m━━━━━━━━━━━━━━━━━━━━\u001b[0m\u001b[37m\u001b[0m \u001b[1m3s\u001b[0m 3ms/step - accuracy: 0.9348 - loss: 0.1674 - val_accuracy: 0.9329 - val_loss: 0.1665\n",
      "Epoch 65/100\n",
      "\u001b[1m1026/1026\u001b[0m \u001b[32m━━━━━━━━━━━━━━━━━━━━\u001b[0m\u001b[37m\u001b[0m \u001b[1m3s\u001b[0m 3ms/step - accuracy: 0.9350 - loss: 0.1664 - val_accuracy: 0.9327 - val_loss: 0.1666\n",
      "Epoch 66/100\n",
      "\u001b[1m1026/1026\u001b[0m \u001b[32m━━━━━━━━━━━━━━━━━━━━\u001b[0m\u001b[37m\u001b[0m \u001b[1m3s\u001b[0m 3ms/step - accuracy: 0.9343 - loss: 0.1671 - val_accuracy: 0.9330 - val_loss: 0.1663\n",
      "Epoch 67/100\n",
      "\u001b[1m1026/1026\u001b[0m \u001b[32m━━━━━━━━━━━━━━━━━━━━\u001b[0m\u001b[37m\u001b[0m \u001b[1m3s\u001b[0m 3ms/step - accuracy: 0.9343 - loss: 0.1687 - val_accuracy: 0.9330 - val_loss: 0.1663\n",
      "Epoch 68/100\n",
      "\u001b[1m1026/1026\u001b[0m \u001b[32m━━━━━━━━━━━━━━━━━━━━\u001b[0m\u001b[37m\u001b[0m \u001b[1m3s\u001b[0m 3ms/step - accuracy: 0.9353 - loss: 0.1656 - val_accuracy: 0.9330 - val_loss: 0.1661\n",
      "Epoch 69/100\n",
      "\u001b[1m1026/1026\u001b[0m \u001b[32m━━━━━━━━━━━━━━━━━━━━\u001b[0m\u001b[37m\u001b[0m \u001b[1m3s\u001b[0m 3ms/step - accuracy: 0.9352 - loss: 0.1658 - val_accuracy: 0.9333 - val_loss: 0.1660\n",
      "Epoch 70/100\n",
      "\u001b[1m1026/1026\u001b[0m \u001b[32m━━━━━━━━━━━━━━━━━━━━\u001b[0m\u001b[37m\u001b[0m \u001b[1m3s\u001b[0m 3ms/step - accuracy: 0.9352 - loss: 0.1663 - val_accuracy: 0.9329 - val_loss: 0.1660\n",
      "Epoch 71/100\n",
      "\u001b[1m1026/1026\u001b[0m \u001b[32m━━━━━━━━━━━━━━━━━━━━\u001b[0m\u001b[37m\u001b[0m \u001b[1m3s\u001b[0m 3ms/step - accuracy: 0.9353 - loss: 0.1644 - val_accuracy: 0.9332 - val_loss: 0.1658\n",
      "Epoch 72/100\n",
      "\u001b[1m1026/1026\u001b[0m \u001b[32m━━━━━━━━━━━━━━━━━━━━\u001b[0m\u001b[37m\u001b[0m \u001b[1m3s\u001b[0m 3ms/step - accuracy: 0.9345 - loss: 0.1654 - val_accuracy: 0.9332 - val_loss: 0.1659\n",
      "Epoch 73/100\n",
      "\u001b[1m1026/1026\u001b[0m \u001b[32m━━━━━━━━━━━━━━━━━━━━\u001b[0m\u001b[37m\u001b[0m \u001b[1m3s\u001b[0m 3ms/step - accuracy: 0.9351 - loss: 0.1653 - val_accuracy: 0.9334 - val_loss: 0.1658\n",
      "Epoch 74/100\n",
      "\u001b[1m1026/1026\u001b[0m \u001b[32m━━━━━━━━━━━━━━━━━━━━\u001b[0m\u001b[37m\u001b[0m \u001b[1m3s\u001b[0m 3ms/step - accuracy: 0.9350 - loss: 0.1653 - val_accuracy: 0.9332 - val_loss: 0.1657\n",
      "Epoch 75/100\n",
      "\u001b[1m1026/1026\u001b[0m \u001b[32m━━━━━━━━━━━━━━━━━━━━\u001b[0m\u001b[37m\u001b[0m \u001b[1m3s\u001b[0m 3ms/step - accuracy: 0.9351 - loss: 0.1648 - val_accuracy: 0.9333 - val_loss: 0.1657\n",
      "Epoch 76/100\n",
      "\u001b[1m1026/1026\u001b[0m \u001b[32m━━━━━━━━━━━━━━━━━━━━\u001b[0m\u001b[37m\u001b[0m \u001b[1m3s\u001b[0m 3ms/step - accuracy: 0.9346 - loss: 0.1661 - val_accuracy: 0.9333 - val_loss: 0.1656\n",
      "Epoch 77/100\n",
      "\u001b[1m1026/1026\u001b[0m \u001b[32m━━━━━━━━━━━━━━━━━━━━\u001b[0m\u001b[37m\u001b[0m \u001b[1m3s\u001b[0m 3ms/step - accuracy: 0.9343 - loss: 0.1669 - val_accuracy: 0.9335 - val_loss: 0.1656\n",
      "Epoch 78/100\n",
      "\u001b[1m1026/1026\u001b[0m \u001b[32m━━━━━━━━━━━━━━━━━━━━\u001b[0m\u001b[37m\u001b[0m \u001b[1m3s\u001b[0m 3ms/step - accuracy: 0.9346 - loss: 0.1674 - val_accuracy: 0.9336 - val_loss: 0.1656\n",
      "Epoch 79/100\n",
      "\u001b[1m1026/1026\u001b[0m \u001b[32m━━━━━━━━━━━━━━━━━━━━\u001b[0m\u001b[37m\u001b[0m \u001b[1m3s\u001b[0m 3ms/step - accuracy: 0.9355 - loss: 0.1643 - val_accuracy: 0.9336 - val_loss: 0.1654\n",
      "Epoch 80/100\n",
      "\u001b[1m1026/1026\u001b[0m \u001b[32m━━━━━━━━━━━━━━━━━━━━\u001b[0m\u001b[37m\u001b[0m \u001b[1m3s\u001b[0m 3ms/step - accuracy: 0.9340 - loss: 0.1671 - val_accuracy: 0.9335 - val_loss: 0.1652\n",
      "Epoch 81/100\n",
      "\u001b[1m1026/1026\u001b[0m \u001b[32m━━━━━━━━━━━━━━━━━━━━\u001b[0m\u001b[37m\u001b[0m \u001b[1m3s\u001b[0m 3ms/step - accuracy: 0.9339 - loss: 0.1666 - val_accuracy: 0.9334 - val_loss: 0.1653\n",
      "Epoch 82/100\n",
      "\u001b[1m1026/1026\u001b[0m \u001b[32m━━━━━━━━━━━━━━━━━━━━\u001b[0m\u001b[37m\u001b[0m \u001b[1m3s\u001b[0m 3ms/step - accuracy: 0.9353 - loss: 0.1655 - val_accuracy: 0.9335 - val_loss: 0.1650\n",
      "Epoch 83/100\n",
      "\u001b[1m1026/1026\u001b[0m \u001b[32m━━━━━━━━━━━━━━━━━━━━\u001b[0m\u001b[37m\u001b[0m \u001b[1m3s\u001b[0m 3ms/step - accuracy: 0.9344 - loss: 0.1686 - val_accuracy: 0.9334 - val_loss: 0.1651\n",
      "Epoch 84/100\n",
      "\u001b[1m1026/1026\u001b[0m \u001b[32m━━━━━━━━━━━━━━━━━━━━\u001b[0m\u001b[37m\u001b[0m \u001b[1m3s\u001b[0m 3ms/step - accuracy: 0.9353 - loss: 0.1649 - val_accuracy: 0.9340 - val_loss: 0.1649\n",
      "Epoch 85/100\n",
      "\u001b[1m1026/1026\u001b[0m \u001b[32m━━━━━━━━━━━━━━━━━━━━\u001b[0m\u001b[37m\u001b[0m \u001b[1m3s\u001b[0m 3ms/step - accuracy: 0.9350 - loss: 0.1652 - val_accuracy: 0.9337 - val_loss: 0.1649\n",
      "Epoch 86/100\n",
      "\u001b[1m1026/1026\u001b[0m \u001b[32m━━━━━━━━━━━━━━━━━━━━\u001b[0m\u001b[37m\u001b[0m \u001b[1m3s\u001b[0m 3ms/step - accuracy: 0.9358 - loss: 0.1645 - val_accuracy: 0.9339 - val_loss: 0.1648\n",
      "Epoch 87/100\n",
      "\u001b[1m1026/1026\u001b[0m \u001b[32m━━━━━━━━━━━━━━━━━━━━\u001b[0m\u001b[37m\u001b[0m \u001b[1m3s\u001b[0m 3ms/step - accuracy: 0.9353 - loss: 0.1658 - val_accuracy: 0.9340 - val_loss: 0.1649\n",
      "Epoch 88/100\n",
      "\u001b[1m1026/1026\u001b[0m \u001b[32m━━━━━━━━━━━━━━━━━━━━\u001b[0m\u001b[37m\u001b[0m \u001b[1m3s\u001b[0m 3ms/step - accuracy: 0.9346 - loss: 0.1646 - val_accuracy: 0.9339 - val_loss: 0.1648\n",
      "Epoch 89/100\n",
      "\u001b[1m1026/1026\u001b[0m \u001b[32m━━━━━━━━━━━━━━━━━━━━\u001b[0m\u001b[37m\u001b[0m \u001b[1m3s\u001b[0m 3ms/step - accuracy: 0.9345 - loss: 0.1662 - val_accuracy: 0.9337 - val_loss: 0.1648\n",
      "Epoch 90/100\n",
      "\u001b[1m1026/1026\u001b[0m \u001b[32m━━━━━━━━━━━━━━━━━━━━\u001b[0m\u001b[37m\u001b[0m \u001b[1m3s\u001b[0m 3ms/step - accuracy: 0.9349 - loss: 0.1658 - val_accuracy: 0.9338 - val_loss: 0.1646\n",
      "Epoch 91/100\n",
      "\u001b[1m1026/1026\u001b[0m \u001b[32m━━━━━━━━━━━━━━━━━━━━\u001b[0m\u001b[37m\u001b[0m \u001b[1m3s\u001b[0m 3ms/step - accuracy: 0.9350 - loss: 0.1644 - val_accuracy: 0.9339 - val_loss: 0.1644\n",
      "Epoch 92/100\n",
      "\u001b[1m1026/1026\u001b[0m \u001b[32m━━━━━━━━━━━━━━━━━━━━\u001b[0m\u001b[37m\u001b[0m \u001b[1m3s\u001b[0m 3ms/step - accuracy: 0.9356 - loss: 0.1640 - val_accuracy: 0.9341 - val_loss: 0.1645\n",
      "Epoch 93/100\n",
      "\u001b[1m1026/1026\u001b[0m \u001b[32m━━━━━━━━━━━━━━━━━━━━\u001b[0m\u001b[37m\u001b[0m \u001b[1m3s\u001b[0m 3ms/step - accuracy: 0.9356 - loss: 0.1646 - val_accuracy: 0.9337 - val_loss: 0.1644\n",
      "Epoch 94/100\n",
      "\u001b[1m1026/1026\u001b[0m \u001b[32m━━━━━━━━━━━━━━━━━━━━\u001b[0m\u001b[37m\u001b[0m \u001b[1m3s\u001b[0m 3ms/step - accuracy: 0.9355 - loss: 0.1634 - val_accuracy: 0.9341 - val_loss: 0.1643\n",
      "Epoch 95/100\n",
      "\u001b[1m1026/1026\u001b[0m \u001b[32m━━━━━━━━━━━━━━━━━━━━\u001b[0m\u001b[37m\u001b[0m \u001b[1m3s\u001b[0m 3ms/step - accuracy: 0.9362 - loss: 0.1626 - val_accuracy: 0.9339 - val_loss: 0.1645\n",
      "Epoch 96/100\n",
      "\u001b[1m1026/1026\u001b[0m \u001b[32m━━━━━━━━━━━━━━━━━━━━\u001b[0m\u001b[37m\u001b[0m \u001b[1m3s\u001b[0m 3ms/step - accuracy: 0.9361 - loss: 0.1633 - val_accuracy: 0.9340 - val_loss: 0.1642\n",
      "Epoch 97/100\n",
      "\u001b[1m1026/1026\u001b[0m \u001b[32m━━━━━━━━━━━━━━━━━━━━\u001b[0m\u001b[37m\u001b[0m \u001b[1m3s\u001b[0m 3ms/step - accuracy: 0.9356 - loss: 0.1627 - val_accuracy: 0.9341 - val_loss: 0.1643\n",
      "Epoch 98/100\n",
      "\u001b[1m1026/1026\u001b[0m \u001b[32m━━━━━━━━━━━━━━━━━━━━\u001b[0m\u001b[37m\u001b[0m \u001b[1m3s\u001b[0m 3ms/step - accuracy: 0.9335 - loss: 0.1663 - val_accuracy: 0.9341 - val_loss: 0.1641\n",
      "Epoch 99/100\n",
      "\u001b[1m1026/1026\u001b[0m \u001b[32m━━━━━━━━━━━━━━━━━━━━\u001b[0m\u001b[37m\u001b[0m \u001b[1m3s\u001b[0m 3ms/step - accuracy: 0.9348 - loss: 0.1642 - val_accuracy: 0.9344 - val_loss: 0.1642\n",
      "Epoch 100/100\n",
      "\u001b[1m1026/1026\u001b[0m \u001b[32m━━━━━━━━━━━━━━━━━━━━\u001b[0m\u001b[37m\u001b[0m \u001b[1m3s\u001b[0m 3ms/step - accuracy: 0.9367 - loss: 0.1619 - val_accuracy: 0.9343 - val_loss: 0.1640\n",
      "Tempo de execução:  305.7119793891907\n"
     ]
    }
   ],
   "source": [
    "# Pula o treino se já houve um modelo salvo\n",
    "if not glob.glob(\"mlp.keras\"):\n",
    "    t_i = t.time()\n",
    "    mod = model.fit(x_train, y_train, epochs=100, batch_size=100, validation_data=(x_test, y_test), callbacks=[early_stopping])\n",
    "    t_f = t.time()\n",
    "    print(\"Tempo de execução: \", t_f - t_i)\n",
    "    # Salvar o modelo e a history\n",
    "    model.save(\"mlp.keras\")\n",
    "    with open(\"mlp_history.pkl\", \"wb\") as f:\n",
    "        pickle.dump(mod.history, f)\n",
    "else:\n",
    "    print(\"Modelo já treinado!\")\n",
    "    # Carregar o modelo e a history\n",
    "    model = load_model(\"mlp.keras\")\n",
    "    with open(\"mlp_history.pkl\", \"rb\") as f:\n",
    "        mod = pickle.load(f)"
   ]
  },
  {
   "cell_type": "markdown",
   "id": "8bc84633",
   "metadata": {},
   "source": [
    "## Teste do modelo"
   ]
  },
  {
   "cell_type": "code",
   "execution_count": 13,
   "id": "ed18f518",
   "metadata": {},
   "outputs": [
    {
     "name": "stdout",
     "output_type": "stream",
     "text": [
      "\u001b[1m802/802\u001b[0m \u001b[32m━━━━━━━━━━━━━━━━━━━━\u001b[0m\u001b[37m\u001b[0m \u001b[1m2s\u001b[0m 2ms/step - accuracy: 0.9336 - loss: 0.1639\n",
      "Loss: 0.1639910191297531 - Acurácia: 0.9342874884605408\n"
     ]
    }
   ],
   "source": [
    "results = model.evaluate(x_test, y_test, verbose=1)\n",
    "print(f'Loss: {results[0]} - Acurácia: {results[1]}')"
   ]
  },
  {
   "cell_type": "markdown",
   "id": "19a5226a",
   "metadata": {},
   "source": [
    "### Visualização dos dados"
   ]
  },
  {
   "cell_type": "code",
   "execution_count": 14,
   "id": "f1fdcdc8",
   "metadata": {},
   "outputs": [
    {
     "data": {
      "image/png": "[encoded data removed]",
      "text/plain": [
       "<Figure size 1200x500 with 2 Axes>"
      ]
     },
     "metadata": {},
     "output_type": "display_data"
    }
   ],
   "source": [
    "plt.figure(figsize=(12, 5))\n",
    "\n",
    "plt.subplot(1, 2, 1)\n",
    "plt.plot(mod.history['accuracy'], label='Acurácia de treino', color='blue')\n",
    "plt.plot(mod.history['val_accuracy'], label='Acurácia de teste', color='orange')\n",
    "plt.title('Acurácia de treino e teste', fontsize=14)\n",
    "plt.xlabel('Epochs', fontsize=12)\n",
    "plt.ylabel('Acurácia', fontsize=12)\n",
    "plt.legend()\n",
    "plt.grid(True)\n",
    "\n",
    "plt.subplot(1, 2, 2)\n",
    "plt.plot(mod.history['loss'], label='Loss do Treino', color='blue')\n",
    "plt.plot(mod.history['val_loss'], label='Loss do teste', color='orange')\n",
    "plt.title('Loss do treino e teste', fontsize=14)\n",
    "plt.xlabel('Epochs', fontsize=12)\n",
    "plt.ylabel('Loss', fontsize=12)\n",
    "plt.legend()\n",
    "plt.grid(True)\n",
    "\n",
    "# plt.suptitle(\"Model Training Performance\", fontsize=16)\n",
    "plt.tight_layout()\n",
    "plt.show()"
   ]
  },
  {
   "cell_type": "markdown",
   "id": "159e1669",
   "metadata": {},
   "source": [
    "### Matriz de confusão"
   ]
  },
  {
   "cell_type": "code",
   "execution_count": 15,
   "id": "2b9a85fb",
   "metadata": {},
   "outputs": [
    {
     "name": "stdout",
     "output_type": "stream",
     "text": [
      "\u001b[1m802/802\u001b[0m \u001b[32m━━━━━━━━━━━━━━━━━━━━\u001b[0m\u001b[37m\u001b[0m \u001b[1m1s\u001b[0m 1ms/step\n"
     ]
    }
   ],
   "source": [
    "y_pred = model.predict(x_test)\n",
    "y_pred = y_pred.flatten()"
   ]
  },
  {
   "cell_type": "code",
   "execution_count": 16,
   "id": "4ba65584",
   "metadata": {},
   "outputs": [],
   "source": [
    "y_pred_dicot = pd.Series(y_pred, y_test.index)\n",
    "y_pred_dicot = (y_pred > 0.5).astype(int)"
   ]
  },
  {
   "cell_type": "code",
   "execution_count": 17,
   "id": "c117a3c0",
   "metadata": {},
   "outputs": [
    {
     "data": {
      "image/png": "[encoded data removed]",
      "text/plain": [
       "<Figure size 600x600 with 2 Axes>"
      ]
     },
     "metadata": {},
     "output_type": "display_data"
    }
   ],
   "source": [
    "cm = confusion_matrix(y_test, y_pred_dicot)\n",
    "cm_disp = ConfusionMatrixDisplay(confusion_matrix=cm, display_labels=[0, 1])\n",
    "fig, ax = plt.subplots(figsize=(6, 6))\n",
    "cm_disp.plot(ax=ax, cmap='Blues', values_format='d')\n",
    "ax.set_xlabel('Previsto', fontsize=12)\n",
    "ax.set_ylabel('Reais', fontsize=12)\n",
    "plt.show()"
   ]
  },
  {
   "cell_type": "markdown",
   "id": "34c89aef",
   "metadata": {},
   "source": [
    "Confirmação dos valores da matriz de ocnfusão"
   ]
  },
  {
   "cell_type": "code",
   "execution_count": 18,
   "id": "f22852e3",
   "metadata": {},
   "outputs": [
    {
     "name": "stdout",
     "output_type": "stream",
     "text": [
      "Acurácia total: 0.9342484985570548\n"
     ]
    }
   ],
   "source": [
    "print(\"Acurácia total:\", (23327 + 629)/len(y_pred_dicot))"
   ]
  },
  {
   "cell_type": "markdown",
   "id": "fdcee497",
   "metadata": {},
   "source": [
    "## Weight e Bias"
   ]
  },
  {
   "cell_type": "markdown",
   "id": "2e554cdd",
   "metadata": {},
   "source": [
    "### Camada oculta"
   ]
  },
  {
   "cell_type": "code",
   "execution_count": 19,
   "id": "7ed9f6b3",
   "metadata": {},
   "outputs": [],
   "source": [
    "weights, biases = model.layers[0].get_weights()"
   ]
  },
  {
   "cell_type": "markdown",
   "id": "76524abc",
   "metadata": {},
   "source": [
    "Note que está transposto!"
   ]
  },
  {
   "cell_type": "code",
   "execution_count": 20,
   "id": "5c281108",
   "metadata": {},
   "outputs": [
    {
     "data": {
      "text/plain": [
       "(6, 4)"
      ]
     },
     "execution_count": 20,
     "metadata": {},
     "output_type": "execute_result"
    }
   ],
   "source": [
    "weights.shape"
   ]
  },
  {
   "cell_type": "markdown",
   "id": "14c792b7",
   "metadata": {},
   "source": [
    "1 bias por neurônio"
   ]
  },
  {
   "cell_type": "code",
   "execution_count": 21,
   "id": "902f148c",
   "metadata": {},
   "outputs": [
    {
     "data": {
      "text/plain": [
       "(4,)"
      ]
     },
     "execution_count": 21,
     "metadata": {},
     "output_type": "execute_result"
    }
   ],
   "source": [
    "biases.shape"
   ]
  },
  {
   "cell_type": "markdown",
   "id": "c36f1d9e",
   "metadata": {},
   "source": [
    "Formato em LaTex:\n",
    "\n",
    "\\begin{bmatrix}\n",
    "1 & 2 & 3\\\\\n",
    "a & b & c\n",
    "\\end{bmatrix}"
   ]
  },
  {
   "cell_type": "code",
   "execution_count": 22,
   "id": "aaf1ea90",
   "metadata": {},
   "outputs": [
    {
     "data": {
      "text/plain": [
       "array([[-0.04528233, -0.6461858 ,  0.90616035, -0.09261219, -3.1849473 ,\n",
       "        -0.0806861 ],\n",
       "       [-0.86329645, -3.1232634 ,  2.969014  ,  1.231408  , -1.6760656 ,\n",
       "        -0.61390126],\n",
       "       [ 0.62877613, -1.9004446 ,  0.62525964, -3.5773263 , -0.50232285,\n",
       "        -0.2576678 ],\n",
       "       [ 0.9630377 ,  2.8927972 , -4.482057  , -0.5209613 ,  0.65998226,\n",
       "         0.09177005]], dtype=float32)"
      ]
     },
     "execution_count": 22,
     "metadata": {},
     "output_type": "execute_result"
    }
   ],
   "source": [
    "weights.T"
   ]
  },
  {
   "cell_type": "markdown",
   "id": "90c966de",
   "metadata": {},
   "source": [
    "Pesos"
   ]
  },
  {
   "cell_type": "code",
   "execution_count": 23,
   "id": "67012c27",
   "metadata": {},
   "outputs": [
    {
     "name": "stdout",
     "output_type": "stream",
     "text": [
      "\\begin{bmatrix}\n",
      "-0.04528233 & -0.6461858 & 0.90616035 & -0.09261219 & -3.1849473 & -0.0806861 \\\\\n",
      "-0.86329645 & -3.1232634 & 2.969014 & 1.231408 & -1.6760656 & -0.61390126 \\\\\n",
      "0.62877613 & -1.9004446 & 0.62525964 & -3.5773263 & -0.50232285 & -0.2576678 \\\\\n",
      "0.9630377 & 2.8927972 & -4.482057 & -0.5209613 & 0.65998226 & 0.09177005 \\\\\n",
      "\\end{bmatrix}\n"
     ]
    }
   ],
   "source": [
    "print(\"\\\\begin{bmatrix}\")\n",
    "for linha in weights.T:\n",
    "    linha_str = [str(el) for el in linha]\n",
    "    print(\" & \".join(linha_str), end=\" \")\n",
    "    print(\"\\\\\\\\\")\n",
    "print(\"\\\\end{bmatrix}\")"
   ]
  },
  {
   "cell_type": "markdown",
   "id": "054967d4",
   "metadata": {},
   "source": [
    "Biases"
   ]
  },
  {
   "cell_type": "code",
   "execution_count": 24,
   "id": "b779a6f4",
   "metadata": {},
   "outputs": [
    {
     "name": "stdout",
     "output_type": "stream",
     "text": [
      "\\begin{bmatrix}\n",
      "3.1030707\\\\\n",
      "1.0726142\\\\\n",
      "1.7111365\\\\\n",
      "1.0201999\n",
      "\\end{bmatrix}\n"
     ]
    }
   ],
   "source": [
    "print(\"\\\\begin{bmatrix}\")\n",
    "linha_str = [str(el) for el in biases.T]\n",
    "print(\"\\\\\\\\\\n\".join(linha_str))\n",
    "print(\"\\\\end{bmatrix}\")"
   ]
  },
  {
   "cell_type": "markdown",
   "id": "0b87779c",
   "metadata": {},
   "source": [
    "### Camada de Output"
   ]
  },
  {
   "cell_type": "code",
   "execution_count": 25,
   "id": "4c7f479e",
   "metadata": {},
   "outputs": [],
   "source": [
    "weights, biases = model.layers[1].get_weights()"
   ]
  },
  {
   "cell_type": "code",
   "execution_count": 26,
   "id": "e8df593f",
   "metadata": {},
   "outputs": [
    {
     "data": {
      "text/plain": [
       "(4, 1)"
      ]
     },
     "execution_count": 26,
     "metadata": {},
     "output_type": "execute_result"
    }
   ],
   "source": [
    "weights.shape"
   ]
  },
  {
   "cell_type": "code",
   "execution_count": 27,
   "id": "8eab4d25",
   "metadata": {},
   "outputs": [
    {
     "data": {
      "text/plain": [
       "(1,)"
      ]
     },
     "execution_count": 27,
     "metadata": {},
     "output_type": "execute_result"
    }
   ],
   "source": [
    "biases.shape"
   ]
  },
  {
   "cell_type": "markdown",
   "id": "b8eb508c",
   "metadata": {},
   "source": [
    "Pesos"
   ]
  },
  {
   "cell_type": "code",
   "execution_count": 28,
   "id": "b44ea64b",
   "metadata": {},
   "outputs": [
    {
     "name": "stdout",
     "output_type": "stream",
     "text": [
      "\\begin{bmatrix}\n",
      "-3.3368704\\\\\n",
      "-3.7269504\\\\\n",
      "-3.6255038\\\\\n",
      "4.1293035\n",
      "\\end{bmatrix}\n"
     ]
    }
   ],
   "source": [
    "print(\"\\\\begin{bmatrix}\")\n",
    "linha_str = [str(el) for el in weights.T.flatten()]\n",
    "print(\"\\\\\\\\\\n\".join(linha_str))\n",
    "print(\"\\\\end{bmatrix}\")"
   ]
  },
  {
   "cell_type": "markdown",
   "id": "d1054a0e",
   "metadata": {},
   "source": [
    "Biases"
   ]
  },
  {
   "cell_type": "code",
   "execution_count": 29,
   "id": "6c65af66",
   "metadata": {},
   "outputs": [
    {
     "name": "stdout",
     "output_type": "stream",
     "text": [
      "\\begin{bmatrix}\n",
      "0.4111217\n",
      "\\end{bmatrix}\n"
     ]
    }
   ],
   "source": [
    "print(\"\\\\begin{bmatrix}\")\n",
    "linha_str = [str(el) for el in biases.T]\n",
    "print(\"\\\\\\\\\\n\".join(linha_str))\n",
    "print(\"\\\\end{bmatrix}\")"
   ]
  },
  {
   "cell_type": "markdown",
   "id": "8872610f",
   "metadata": {},
   "source": [
    "## Treino com o PCA (OBSOLETO)"
   ]
  },
  {
   "cell_type": "code",
   "execution_count": 30,
   "id": "7052cb02",
   "metadata": {},
   "outputs": [],
   "source": [
    "pca = PCA()"
   ]
  },
  {
   "cell_type": "code",
   "execution_count": 31,
   "id": "0095b57f",
   "metadata": {},
   "outputs": [],
   "source": [
    "df_proj = pca.fit_transform(df_norm.drop(\"PRECIPITACAO TOTAL, HORARIO(mm)\", axis=1))\n",
    "df_proj = pd.DataFrame(df_proj, columns=pca.get_feature_names_out())"
   ]
  },
  {
   "cell_type": "code",
   "execution_count": 32,
   "id": "2a6c3369",
   "metadata": {},
   "outputs": [],
   "source": [
    "df_proj = df_proj.drop([\"pca2\", \"pca3\", \"pca4\", \"pca5\"], axis=1)"
   ]
  },
  {
   "cell_type": "code",
   "execution_count": 33,
   "id": "e9a1ef85",
   "metadata": {},
   "outputs": [],
   "source": [
    "x_train, x_test, y_train, y_test = train_test_split(df_proj, Y, test_size=0.2, random_state=42)"
   ]
  },
  {
   "cell_type": "code",
   "execution_count": 34,
   "id": "778ff281",
   "metadata": {},
   "outputs": [
    {
     "data": {
      "text/html": [
       "<pre style=\"white-space:pre;overflow-x:auto;line-height:normal;font-family:Menlo,'DejaVu Sans Mono',consolas,'Courier New',monospace\"><span style=\"font-weight: bold\">Model: \"sequential_1\"</span>\n",
       "</pre>\n"
      ],
      "text/plain": [
       "\u001b[1mModel: \"sequential_1\"\u001b[0m\n"
      ]
     },
     "metadata": {},
     "output_type": "display_data"
    },
    {
     "data": {
      "text/html": [
       "<pre style=\"white-space:pre;overflow-x:auto;line-height:normal;font-family:Menlo,'DejaVu Sans Mono',consolas,'Courier New',monospace\">┏━━━━━━━━━━━━━━━━━━━━━━━━━━━━━━━━━┳━━━━━━━━━━━━━━━━━━━━━━━━┳━━━━━━━━━━━━━━━┓\n",
       "┃<span style=\"font-weight: bold\"> Layer (type)                    </span>┃<span style=\"font-weight: bold\"> Output Shape           </span>┃<span style=\"font-weight: bold\">       Param # </span>┃\n",
       "┡━━━━━━━━━━━━━━━━━━━━━━━━━━━━━━━━━╇━━━━━━━━━━━━━━━━━━━━━━━━╇━━━━━━━━━━━━━━━┩\n",
       "│ dense_2 (<span style=\"color: #0087ff; text-decoration-color: #0087ff\">Dense</span>)                 │ (<span style=\"color: #00d7ff; text-decoration-color: #00d7ff\">None</span>, <span style=\"color: #00af00; text-decoration-color: #00af00\">12</span>)             │            <span style=\"color: #00af00; text-decoration-color: #00af00\">36</span> │\n",
       "├─────────────────────────────────┼────────────────────────┼───────────────┤\n",
       "│ dense_3 (<span style=\"color: #0087ff; text-decoration-color: #0087ff\">Dense</span>)                 │ (<span style=\"color: #00d7ff; text-decoration-color: #00d7ff\">None</span>, <span style=\"color: #00af00; text-decoration-color: #00af00\">1</span>)              │            <span style=\"color: #00af00; text-decoration-color: #00af00\">13</span> │\n",
       "└─────────────────────────────────┴────────────────────────┴───────────────┘\n",
       "</pre>\n"
      ],
      "text/plain": [
       "┏━━━━━━━━━━━━━━━━━━━━━━━━━━━━━━━━━┳━━━━━━━━━━━━━━━━━━━━━━━━┳━━━━━━━━━━━━━━━┓\n",
       "┃\u001b[1m \u001b[0m\u001b[1mLayer (type)                   \u001b[0m\u001b[1m \u001b[0m┃\u001b[1m \u001b[0m\u001b[1mOutput Shape          \u001b[0m\u001b[1m \u001b[0m┃\u001b[1m \u001b[0m\u001b[1m      Param #\u001b[0m\u001b[1m \u001b[0m┃\n",
       "┡━━━━━━━━━━━━━━━━━━━━━━━━━━━━━━━━━╇━━━━━━━━━━━━━━━━━━━━━━━━╇━━━━━━━━━━━━━━━┩\n",
       "│ dense_2 (\u001b[38;5;33mDense\u001b[0m)                 │ (\u001b[38;5;45mNone\u001b[0m, \u001b[38;5;34m12\u001b[0m)             │            \u001b[38;5;34m36\u001b[0m │\n",
       "├─────────────────────────────────┼────────────────────────┼───────────────┤\n",
       "│ dense_3 (\u001b[38;5;33mDense\u001b[0m)                 │ (\u001b[38;5;45mNone\u001b[0m, \u001b[38;5;34m1\u001b[0m)              │            \u001b[38;5;34m13\u001b[0m │\n",
       "└─────────────────────────────────┴────────────────────────┴───────────────┘\n"
      ]
     },
     "metadata": {},
     "output_type": "display_data"
    },
    {
     "data": {
      "text/html": [
       "<pre style=\"white-space:pre;overflow-x:auto;line-height:normal;font-family:Menlo,'DejaVu Sans Mono',consolas,'Courier New',monospace\"><span style=\"font-weight: bold\"> Total params: </span><span style=\"color: #00af00; text-decoration-color: #00af00\">49</span> (196.00 B)\n",
       "</pre>\n"
      ],
      "text/plain": [
       "\u001b[1m Total params: \u001b[0m\u001b[38;5;34m49\u001b[0m (196.00 B)\n"
      ]
     },
     "metadata": {},
     "output_type": "display_data"
    },
    {
     "data": {
      "text/html": [
       "<pre style=\"white-space:pre;overflow-x:auto;line-height:normal;font-family:Menlo,'DejaVu Sans Mono',consolas,'Courier New',monospace\"><span style=\"font-weight: bold\"> Trainable params: </span><span style=\"color: #00af00; text-decoration-color: #00af00\">49</span> (196.00 B)\n",
       "</pre>\n"
      ],
      "text/plain": [
       "\u001b[1m Trainable params: \u001b[0m\u001b[38;5;34m49\u001b[0m (196.00 B)\n"
      ]
     },
     "metadata": {},
     "output_type": "display_data"
    },
    {
     "data": {
      "text/html": [
       "<pre style=\"white-space:pre;overflow-x:auto;line-height:normal;font-family:Menlo,'DejaVu Sans Mono',consolas,'Courier New',monospace\"><span style=\"font-weight: bold\"> Non-trainable params: </span><span style=\"color: #00af00; text-decoration-color: #00af00\">0</span> (0.00 B)\n",
       "</pre>\n"
      ],
      "text/plain": [
       "\u001b[1m Non-trainable params: \u001b[0m\u001b[38;5;34m0\u001b[0m (0.00 B)\n"
      ]
     },
     "metadata": {},
     "output_type": "display_data"
    }
   ],
   "source": [
    "model = Sequential([\n",
    "    Input(shape=(2,)), # Camada de Input\n",
    "    Dense(12, activation=\"sigmoid\"), # Camada oculta\n",
    "    Dense(1, activation=\"sigmoid\") # Camada de Output\n",
    "])\n",
    "model.summary()"
   ]
  },
  {
   "cell_type": "code",
   "execution_count": 35,
   "id": "f8a0ab43",
   "metadata": {},
   "outputs": [
    {
     "name": "stdout",
     "output_type": "stream",
     "text": [
      "Epoch 1/100\n",
      "\u001b[1m1026/1026\u001b[0m \u001b[32m━━━━━━━━━━━━━━━━━━━━\u001b[0m\u001b[37m\u001b[0m \u001b[1m4s\u001b[0m 3ms/step - accuracy: 0.9214 - loss: 0.3394 - val_accuracy: 0.9198 - val_loss: 0.2329\n",
      "Epoch 2/100\n",
      "\u001b[1m1026/1026\u001b[0m \u001b[32m━━━━━━━━━━━━━━━━━━━━\u001b[0m\u001b[37m\u001b[0m \u001b[1m3s\u001b[0m 2ms/step - accuracy: 0.9203 - loss: 0.2290 - val_accuracy: 0.9198 - val_loss: 0.2271\n",
      "Epoch 3/100\n",
      "\u001b[1m1026/1026\u001b[0m \u001b[32m━━━━━━━━━━━━━━━━━━━━\u001b[0m\u001b[37m\u001b[0m \u001b[1m3s\u001b[0m 3ms/step - accuracy: 0.9197 - loss: 0.2269 - val_accuracy: 0.9198 - val_loss: 0.2267\n",
      "Epoch 4/100\n",
      "\u001b[1m1026/1026\u001b[0m \u001b[32m━━━━━━━━━━━━━━━━━━━━\u001b[0m\u001b[37m\u001b[0m \u001b[1m3s\u001b[0m 2ms/step - accuracy: 0.9206 - loss: 0.2253 - val_accuracy: 0.9198 - val_loss: 0.2268\n",
      "Epoch 5/100\n",
      "\u001b[1m1026/1026\u001b[0m \u001b[32m━━━━━━━━━━━━━━━━━━━━\u001b[0m\u001b[37m\u001b[0m \u001b[1m2s\u001b[0m 2ms/step - accuracy: 0.9214 - loss: 0.2241 - val_accuracy: 0.9198 - val_loss: 0.2264\n",
      "Epoch 6/100\n",
      "\u001b[1m1026/1026\u001b[0m \u001b[32m━━━━━━━━━━━━━━━━━━━━\u001b[0m\u001b[37m\u001b[0m \u001b[1m2s\u001b[0m 2ms/step - accuracy: 0.9204 - loss: 0.2252 - val_accuracy: 0.9198 - val_loss: 0.2264\n",
      "Epoch 7/100\n",
      "\u001b[1m1026/1026\u001b[0m \u001b[32m━━━━━━━━━━━━━━━━━━━━\u001b[0m\u001b[37m\u001b[0m \u001b[1m3s\u001b[0m 2ms/step - accuracy: 0.9207 - loss: 0.2258 - val_accuracy: 0.9198 - val_loss: 0.2261\n",
      "Epoch 8/100\n",
      "\u001b[1m1026/1026\u001b[0m \u001b[32m━━━━━━━━━━━━━━━━━━━━\u001b[0m\u001b[37m\u001b[0m \u001b[1m2s\u001b[0m 2ms/step - accuracy: 0.9210 - loss: 0.2251 - val_accuracy: 0.9198 - val_loss: 0.2259\n",
      "Epoch 9/100\n",
      "\u001b[1m1026/1026\u001b[0m \u001b[32m━━━━━━━━━━━━━━━━━━━━\u001b[0m\u001b[37m\u001b[0m \u001b[1m2s\u001b[0m 2ms/step - accuracy: 0.9207 - loss: 0.2247 - val_accuracy: 0.9198 - val_loss: 0.2259\n",
      "Epoch 10/100\n",
      "\u001b[1m1026/1026\u001b[0m \u001b[32m━━━━━━━━━━━━━━━━━━━━\u001b[0m\u001b[37m\u001b[0m \u001b[1m2s\u001b[0m 2ms/step - accuracy: 0.9196 - loss: 0.2269 - val_accuracy: 0.9198 - val_loss: 0.2259\n",
      "Epoch 11/100\n",
      "\u001b[1m1026/1026\u001b[0m \u001b[32m━━━━━━━━━━━━━━━━━━━━\u001b[0m\u001b[37m\u001b[0m \u001b[1m3s\u001b[0m 3ms/step - accuracy: 0.9208 - loss: 0.2249 - val_accuracy: 0.9198 - val_loss: 0.2256\n",
      "Epoch 12/100\n",
      "\u001b[1m1026/1026\u001b[0m \u001b[32m━━━━━━━━━━━━━━━━━━━━\u001b[0m\u001b[37m\u001b[0m \u001b[1m3s\u001b[0m 2ms/step - accuracy: 0.9206 - loss: 0.2240 - val_accuracy: 0.9198 - val_loss: 0.2254\n",
      "Epoch 13/100\n",
      "\u001b[1m1026/1026\u001b[0m \u001b[32m━━━━━━━━━━━━━━━━━━━━\u001b[0m\u001b[37m\u001b[0m \u001b[1m3s\u001b[0m 2ms/step - accuracy: 0.9204 - loss: 0.2242 - val_accuracy: 0.9197 - val_loss: 0.2252\n",
      "Epoch 14/100\n",
      "\u001b[1m1026/1026\u001b[0m \u001b[32m━━━━━━━━━━━━━━━━━━━━\u001b[0m\u001b[37m\u001b[0m \u001b[1m3s\u001b[0m 2ms/step - accuracy: 0.9207 - loss: 0.2228 - val_accuracy: 0.9198 - val_loss: 0.2250\n",
      "Epoch 15/100\n",
      "\u001b[1m1026/1026\u001b[0m \u001b[32m━━━━━━━━━━━━━━━━━━━━\u001b[0m\u001b[37m\u001b[0m \u001b[1m2s\u001b[0m 2ms/step - accuracy: 0.9212 - loss: 0.2224 - val_accuracy: 0.9198 - val_loss: 0.2249\n",
      "Epoch 16/100\n",
      "\u001b[1m1026/1026\u001b[0m \u001b[32m━━━━━━━━━━━━━━━━━━━━\u001b[0m\u001b[37m\u001b[0m \u001b[1m2s\u001b[0m 2ms/step - accuracy: 0.9212 - loss: 0.2226 - val_accuracy: 0.9198 - val_loss: 0.2247\n",
      "Epoch 17/100\n",
      "\u001b[1m1026/1026\u001b[0m \u001b[32m━━━━━━━━━━━━━━━━━━━━\u001b[0m\u001b[37m\u001b[0m \u001b[1m3s\u001b[0m 2ms/step - accuracy: 0.9219 - loss: 0.2223 - val_accuracy: 0.9199 - val_loss: 0.2246\n",
      "Epoch 18/100\n",
      "\u001b[1m1026/1026\u001b[0m \u001b[32m━━━━━━━━━━━━━━━━━━━━\u001b[0m\u001b[37m\u001b[0m \u001b[1m3s\u001b[0m 3ms/step - accuracy: 0.9210 - loss: 0.2222 - val_accuracy: 0.9200 - val_loss: 0.2246\n",
      "Epoch 19/100\n",
      "\u001b[1m1026/1026\u001b[0m \u001b[32m━━━━━━━━━━━━━━━━━━━━\u001b[0m\u001b[37m\u001b[0m \u001b[1m3s\u001b[0m 2ms/step - accuracy: 0.9207 - loss: 0.2233 - val_accuracy: 0.9200 - val_loss: 0.2242\n",
      "Epoch 20/100\n",
      "\u001b[1m1026/1026\u001b[0m \u001b[32m━━━━━━━━━━━━━━━━━━━━\u001b[0m\u001b[37m\u001b[0m \u001b[1m2s\u001b[0m 2ms/step - accuracy: 0.9225 - loss: 0.2198 - val_accuracy: 0.9199 - val_loss: 0.2241\n",
      "Epoch 21/100\n",
      "\u001b[1m1026/1026\u001b[0m \u001b[32m━━━━━━━━━━━━━━━━━━━━\u001b[0m\u001b[37m\u001b[0m \u001b[1m3s\u001b[0m 2ms/step - accuracy: 0.9216 - loss: 0.2217 - val_accuracy: 0.9202 - val_loss: 0.2243\n",
      "Epoch 22/100\n",
      "\u001b[1m1026/1026\u001b[0m \u001b[32m━━━━━━━━━━━━━━━━━━━━\u001b[0m\u001b[37m\u001b[0m \u001b[1m2s\u001b[0m 2ms/step - accuracy: 0.9221 - loss: 0.2202 - val_accuracy: 0.9201 - val_loss: 0.2241\n",
      "Epoch 23/100\n",
      "\u001b[1m1026/1026\u001b[0m \u001b[32m━━━━━━━━━━━━━━━━━━━━\u001b[0m\u001b[37m\u001b[0m \u001b[1m2s\u001b[0m 2ms/step - accuracy: 0.9214 - loss: 0.2214 - val_accuracy: 0.9201 - val_loss: 0.2238\n",
      "Epoch 24/100\n",
      "\u001b[1m1026/1026\u001b[0m \u001b[32m━━━━━━━━━━━━━━━━━━━━\u001b[0m\u001b[37m\u001b[0m \u001b[1m3s\u001b[0m 2ms/step - accuracy: 0.9214 - loss: 0.2212 - val_accuracy: 0.9201 - val_loss: 0.2236\n",
      "Epoch 25/100\n",
      "\u001b[1m1026/1026\u001b[0m \u001b[32m━━━━━━━━━━━━━━━━━━━━\u001b[0m\u001b[37m\u001b[0m \u001b[1m3s\u001b[0m 3ms/step - accuracy: 0.9203 - loss: 0.2235 - val_accuracy: 0.9202 - val_loss: 0.2236\n",
      "Epoch 26/100\n",
      "\u001b[1m1026/1026\u001b[0m \u001b[32m━━━━━━━━━━━━━━━━━━━━\u001b[0m\u001b[37m\u001b[0m \u001b[1m3s\u001b[0m 2ms/step - accuracy: 0.9200 - loss: 0.2243 - val_accuracy: 0.9201 - val_loss: 0.2235\n",
      "Epoch 27/100\n",
      "\u001b[1m1026/1026\u001b[0m \u001b[32m━━━━━━━━━━━━━━━━━━━━\u001b[0m\u001b[37m\u001b[0m \u001b[1m3s\u001b[0m 3ms/step - accuracy: 0.9203 - loss: 0.2231 - val_accuracy: 0.9202 - val_loss: 0.2234\n",
      "Epoch 28/100\n",
      "\u001b[1m1026/1026\u001b[0m \u001b[32m━━━━━━━━━━━━━━━━━━━━\u001b[0m\u001b[37m\u001b[0m \u001b[1m2s\u001b[0m 2ms/step - accuracy: 0.9206 - loss: 0.2234 - val_accuracy: 0.9202 - val_loss: 0.2233\n",
      "Epoch 29/100\n",
      "\u001b[1m1026/1026\u001b[0m \u001b[32m━━━━━━━━━━━━━━━━━━━━\u001b[0m\u001b[37m\u001b[0m \u001b[1m2s\u001b[0m 2ms/step - accuracy: 0.9196 - loss: 0.2253 - val_accuracy: 0.9200 - val_loss: 0.2235\n",
      "Epoch 30/100\n",
      "\u001b[1m1026/1026\u001b[0m \u001b[32m━━━━━━━━━━━━━━━━━━━━\u001b[0m\u001b[37m\u001b[0m \u001b[1m3s\u001b[0m 2ms/step - accuracy: 0.9213 - loss: 0.2217 - val_accuracy: 0.9202 - val_loss: 0.2230\n",
      "Epoch 31/100\n",
      "\u001b[1m1026/1026\u001b[0m \u001b[32m━━━━━━━━━━━━━━━━━━━━\u001b[0m\u001b[37m\u001b[0m \u001b[1m3s\u001b[0m 3ms/step - accuracy: 0.9230 - loss: 0.2187 - val_accuracy: 0.9200 - val_loss: 0.2231\n",
      "Epoch 32/100\n",
      "\u001b[1m1026/1026\u001b[0m \u001b[32m━━━━━━━━━━━━━━━━━━━━\u001b[0m\u001b[37m\u001b[0m \u001b[1m3s\u001b[0m 2ms/step - accuracy: 0.9218 - loss: 0.2196 - val_accuracy: 0.9200 - val_loss: 0.2231\n",
      "Epoch 33/100\n",
      "\u001b[1m1026/1026\u001b[0m \u001b[32m━━━━━━━━━━━━━━━━━━━━\u001b[0m\u001b[37m\u001b[0m \u001b[1m3s\u001b[0m 2ms/step - accuracy: 0.9204 - loss: 0.2242 - val_accuracy: 0.9201 - val_loss: 0.2230\n",
      "Epoch 34/100\n",
      "\u001b[1m1026/1026\u001b[0m \u001b[32m━━━━━━━━━━━━━━━━━━━━\u001b[0m\u001b[37m\u001b[0m \u001b[1m2s\u001b[0m 2ms/step - accuracy: 0.9210 - loss: 0.2216 - val_accuracy: 0.9203 - val_loss: 0.2229\n",
      "Epoch 35/100\n",
      "\u001b[1m1026/1026\u001b[0m \u001b[32m━━━━━━━━━━━━━━━━━━━━\u001b[0m\u001b[37m\u001b[0m \u001b[1m2s\u001b[0m 2ms/step - accuracy: 0.9222 - loss: 0.2182 - val_accuracy: 0.9200 - val_loss: 0.2228\n",
      "Epoch 36/100\n",
      "\u001b[1m1026/1026\u001b[0m \u001b[32m━━━━━━━━━━━━━━━━━━━━\u001b[0m\u001b[37m\u001b[0m \u001b[1m3s\u001b[0m 2ms/step - accuracy: 0.9199 - loss: 0.2235 - val_accuracy: 0.9202 - val_loss: 0.2228\n",
      "Epoch 37/100\n",
      "\u001b[1m1026/1026\u001b[0m \u001b[32m━━━━━━━━━━━━━━━━━━━━\u001b[0m\u001b[37m\u001b[0m \u001b[1m3s\u001b[0m 2ms/step - accuracy: 0.9200 - loss: 0.2244 - val_accuracy: 0.9201 - val_loss: 0.2228\n",
      "Epoch 38/100\n",
      "\u001b[1m1026/1026\u001b[0m \u001b[32m━━━━━━━━━━━━━━━━━━━━\u001b[0m\u001b[37m\u001b[0m \u001b[1m3s\u001b[0m 2ms/step - accuracy: 0.9205 - loss: 0.2215 - val_accuracy: 0.9201 - val_loss: 0.2227\n",
      "Epoch 39/100\n",
      "\u001b[1m1026/1026\u001b[0m \u001b[32m━━━━━━━━━━━━━━━━━━━━\u001b[0m\u001b[37m\u001b[0m \u001b[1m3s\u001b[0m 3ms/step - accuracy: 0.9210 - loss: 0.2225 - val_accuracy: 0.9201 - val_loss: 0.2228\n",
      "Epoch 40/100\n",
      "\u001b[1m1026/1026\u001b[0m \u001b[32m━━━━━━━━━━━━━━━━━━━━\u001b[0m\u001b[37m\u001b[0m \u001b[1m3s\u001b[0m 2ms/step - accuracy: 0.9216 - loss: 0.2194 - val_accuracy: 0.9199 - val_loss: 0.2226\n",
      "Epoch 41/100\n",
      "\u001b[1m1026/1026\u001b[0m \u001b[32m━━━━━━━━━━━━━━━━━━━━\u001b[0m\u001b[37m\u001b[0m \u001b[1m2s\u001b[0m 2ms/step - accuracy: 0.9212 - loss: 0.2222 - val_accuracy: 0.9203 - val_loss: 0.2229\n",
      "Epoch 42/100\n",
      "\u001b[1m1026/1026\u001b[0m \u001b[32m━━━━━━━━━━━━━━━━━━━━\u001b[0m\u001b[37m\u001b[0m \u001b[1m3s\u001b[0m 3ms/step - accuracy: 0.9213 - loss: 0.2209 - val_accuracy: 0.9201 - val_loss: 0.2226\n",
      "Epoch 43/100\n",
      "\u001b[1m1026/1026\u001b[0m \u001b[32m━━━━━━━━━━━━━━━━━━━━\u001b[0m\u001b[37m\u001b[0m \u001b[1m2s\u001b[0m 2ms/step - accuracy: 0.9204 - loss: 0.2235 - val_accuracy: 0.9202 - val_loss: 0.2226\n",
      "Epoch 44/100\n",
      "\u001b[1m1026/1026\u001b[0m \u001b[32m━━━━━━━━━━━━━━━━━━━━\u001b[0m\u001b[37m\u001b[0m \u001b[1m3s\u001b[0m 2ms/step - accuracy: 0.9218 - loss: 0.2183 - val_accuracy: 0.9200 - val_loss: 0.2224\n",
      "Epoch 45/100\n",
      "\u001b[1m1026/1026\u001b[0m \u001b[32m━━━━━━━━━━━━━━━━━━━━\u001b[0m\u001b[37m\u001b[0m \u001b[1m3s\u001b[0m 3ms/step - accuracy: 0.9211 - loss: 0.2221 - val_accuracy: 0.9200 - val_loss: 0.2223\n",
      "Epoch 46/100\n",
      "\u001b[1m1026/1026\u001b[0m \u001b[32m━━━━━━━━━━━━━━━━━━━━\u001b[0m\u001b[37m\u001b[0m \u001b[1m3s\u001b[0m 2ms/step - accuracy: 0.9215 - loss: 0.2201 - val_accuracy: 0.9199 - val_loss: 0.2223\n",
      "Epoch 47/100\n",
      "\u001b[1m1026/1026\u001b[0m \u001b[32m━━━━━━━━━━━━━━━━━━━━\u001b[0m\u001b[37m\u001b[0m \u001b[1m3s\u001b[0m 2ms/step - accuracy: 0.9208 - loss: 0.2205 - val_accuracy: 0.9201 - val_loss: 0.2223\n",
      "Epoch 48/100\n",
      "\u001b[1m1026/1026\u001b[0m \u001b[32m━━━━━━━━━━━━━━━━━━━━\u001b[0m\u001b[37m\u001b[0m \u001b[1m2s\u001b[0m 2ms/step - accuracy: 0.9209 - loss: 0.2222 - val_accuracy: 0.9201 - val_loss: 0.2225\n",
      "Epoch 49/100\n",
      "\u001b[1m1026/1026\u001b[0m \u001b[32m━━━━━━━━━━━━━━━━━━━━\u001b[0m\u001b[37m\u001b[0m \u001b[1m2s\u001b[0m 2ms/step - accuracy: 0.9204 - loss: 0.2219 - val_accuracy: 0.9200 - val_loss: 0.2223\n",
      "Epoch 50/100\n",
      "\u001b[1m1026/1026\u001b[0m \u001b[32m━━━━━━━━━━━━━━━━━━━━\u001b[0m\u001b[37m\u001b[0m \u001b[1m3s\u001b[0m 2ms/step - accuracy: 0.9217 - loss: 0.2204 - val_accuracy: 0.9201 - val_loss: 0.2224\n",
      "Epoch 51/100\n",
      "\u001b[1m1026/1026\u001b[0m \u001b[32m━━━━━━━━━━━━━━━━━━━━\u001b[0m\u001b[37m\u001b[0m \u001b[1m3s\u001b[0m 2ms/step - accuracy: 0.9215 - loss: 0.2204 - val_accuracy: 0.9202 - val_loss: 0.2222\n",
      "Epoch 52/100\n",
      "\u001b[1m1026/1026\u001b[0m \u001b[32m━━━━━━━━━━━━━━━━━━━━\u001b[0m\u001b[37m\u001b[0m \u001b[1m3s\u001b[0m 2ms/step - accuracy: 0.9214 - loss: 0.2207 - val_accuracy: 0.9202 - val_loss: 0.2223\n",
      "Epoch 53/100\n",
      "\u001b[1m1026/1026\u001b[0m \u001b[32m━━━━━━━━━━━━━━━━━━━━\u001b[0m\u001b[37m\u001b[0m \u001b[1m3s\u001b[0m 3ms/step - accuracy: 0.9221 - loss: 0.2183 - val_accuracy: 0.9201 - val_loss: 0.2223\n",
      "Epoch 54/100\n",
      "\u001b[1m1026/1026\u001b[0m \u001b[32m━━━━━━━━━━━━━━━━━━━━\u001b[0m\u001b[37m\u001b[0m \u001b[1m3s\u001b[0m 2ms/step - accuracy: 0.9207 - loss: 0.2213 - val_accuracy: 0.9203 - val_loss: 0.2223\n",
      "Epoch 55/100\n",
      "\u001b[1m1026/1026\u001b[0m \u001b[32m━━━━━━━━━━━━━━━━━━━━\u001b[0m\u001b[37m\u001b[0m \u001b[1m3s\u001b[0m 3ms/step - accuracy: 0.9190 - loss: 0.2243 - val_accuracy: 0.9204 - val_loss: 0.2223\n",
      "Epoch 56/100\n",
      "\u001b[1m1026/1026\u001b[0m \u001b[32m━━━━━━━━━━━━━━━━━━━━\u001b[0m\u001b[37m\u001b[0m \u001b[1m2s\u001b[0m 2ms/step - accuracy: 0.9199 - loss: 0.2244 - val_accuracy: 0.9203 - val_loss: 0.2226\n",
      "Tempo de execução:  143.42097973823547\n"
     ]
    }
   ],
   "source": [
    "early_stopping = EarlyStopping(monitor='val_loss', patience=5, restore_best_weights=True)\n",
    "model.compile(optimizer='adam',\n",
    "              loss='binary_crossentropy',\n",
    "              metrics=['accuracy'])\n",
    "t_i = t.time()\n",
    "mod = model.fit(x_train, y_train, epochs=100, batch_size=100, validation_data=(x_test, y_test), callbacks=[early_stopping])\n",
    "t_f = t.time()\n",
    "print(\"Tempo de execução: \", t_f - t_i)\n"
   ]
  },
  {
   "cell_type": "code",
   "execution_count": 36,
   "id": "bd32342f",
   "metadata": {},
   "outputs": [
    {
     "name": "stdout",
     "output_type": "stream",
     "text": [
      "Loss, Acurácia: [0.22223353385925293, 0.9202480316162109]\n"
     ]
    }
   ],
   "source": [
    "results = model.evaluate(x_test, y_test, verbose=0)\n",
    "print('Loss, Acurácia:', results)"
   ]
  },
  {
   "cell_type": "code",
   "execution_count": 37,
   "id": "94312094",
   "metadata": {},
   "outputs": [
    {
     "data": {
      "image/png": "[encoded data removed]",
      "text/plain": [
       "<Figure size 1200x500 with 2 Axes>"
      ]
     },
     "metadata": {},
     "output_type": "display_data"
    }
   ],
   "source": [
    "plt.figure(figsize=(12, 5))\n",
    "\n",
    "plt.subplot(1, 2, 1)\n",
    "plt.plot(mod.history['accuracy'], label='Training Accuracy', color='blue')\n",
    "plt.plot(mod.history['val_accuracy'], label='Validation Accuracy', color='orange')\n",
    "plt.title('Training and Validation Accuracy', fontsize=14)\n",
    "plt.xlabel('Epochs', fontsize=12)\n",
    "plt.ylabel('Accuracy', fontsize=12)\n",
    "plt.legend()\n",
    "plt.grid(True)\n",
    "\n",
    "plt.subplot(1, 2, 2)\n",
    "plt.plot(mod.history['loss'], label='Training Loss', color='blue')\n",
    "plt.plot(mod.history['val_loss'], label='Validation Loss', color='orange')\n",
    "plt.title('Training and Validation Loss', fontsize=14)\n",
    "plt.xlabel('Epochs', fontsize=12)\n",
    "plt.ylabel('Loss', fontsize=12)\n",
    "plt.legend()\n",
    "plt.grid(True)\n",
    "\n",
    "plt.suptitle(\"Model Training Performance\", fontsize=16)\n",
    "plt.tight_layout()\n",
    "plt.show()"
   ]
  },
  {
   "cell_type": "markdown",
   "id": "75ae37da",
   "metadata": {},
   "source": [
    "### Coeficientes (*Weights* e *biases*)"
   ]
  },
  {
   "cell_type": "markdown",
   "id": "77002052",
   "metadata": {},
   "source": [
    "### Layer 0 - Input"
   ]
  },
  {
   "cell_type": "code",
   "execution_count": 38,
   "id": "f559eec9",
   "metadata": {},
   "outputs": [],
   "source": [
    "weights, biases = model.layers[0].get_weights()"
   ]
  },
  {
   "cell_type": "code",
   "execution_count": 39,
   "id": "cfc5e751",
   "metadata": {},
   "outputs": [
    {
     "data": {
      "text/plain": [
       "array([[-0.77303505,  0.62407327,  0.5640077 ,  0.666307  , -0.75681263,\n",
       "        -0.94305724, -0.8880444 , -0.7174917 ,  0.2535278 , -0.74166185,\n",
       "        -0.16515541, -1.0457175 ],\n",
       "       [ 0.54882425, -0.49965096, -0.30150592, -0.47979528,  0.5636352 ,\n",
       "         0.4640849 ,  0.16459574,  0.5490429 ,  1.8329374 ,  0.53165215,\n",
       "         1.5830252 , -1.4243484 ]], dtype=float32)"
      ]
     },
     "execution_count": 39,
     "metadata": {},
     "output_type": "execute_result"
    }
   ],
   "source": [
    "weights"
   ]
  },
  {
   "cell_type": "code",
   "execution_count": 40,
   "id": "43407ce3",
   "metadata": {},
   "outputs": [
    {
     "data": {
      "text/plain": [
       "array([ 0.34170264, -0.096979  , -0.3328189 , -0.24623305,  0.05894628,\n",
       "        0.69196165,  0.89637154,  0.26540327, -2.543398  ,  0.27194005,\n",
       "        0.7916062 ,  3.9250853 ], dtype=float32)"
      ]
     },
     "execution_count": 40,
     "metadata": {},
     "output_type": "execute_result"
    }
   ],
   "source": [
    "biases"
   ]
  },
  {
   "cell_type": "code",
   "execution_count": 41,
   "id": "536e9b69",
   "metadata": {},
   "outputs": [
    {
     "data": {
      "text/plain": [
       "(2, 12)"
      ]
     },
     "execution_count": 41,
     "metadata": {},
     "output_type": "execute_result"
    }
   ],
   "source": [
    "weights.shape"
   ]
  },
  {
   "cell_type": "code",
   "execution_count": 42,
   "id": "10b4b626",
   "metadata": {},
   "outputs": [
    {
     "data": {
      "text/plain": [
       "(12,)"
      ]
     },
     "execution_count": 42,
     "metadata": {},
     "output_type": "execute_result"
    }
   ],
   "source": [
    "biases.shape"
   ]
  },
  {
   "cell_type": "code",
   "execution_count": 43,
   "id": "1a331e7a",
   "metadata": {},
   "outputs": [],
   "source": [
    "weights, biases = model.layers[1].get_weights()"
   ]
  },
  {
   "cell_type": "code",
   "execution_count": 44,
   "id": "beaa9781",
   "metadata": {},
   "outputs": [
    {
     "data": {
      "text/plain": [
       "(12, 1)"
      ]
     },
     "execution_count": 44,
     "metadata": {},
     "output_type": "execute_result"
    }
   ],
   "source": [
    "weights.shape"
   ]
  },
  {
   "cell_type": "code",
   "execution_count": 45,
   "id": "58a4f1df",
   "metadata": {},
   "outputs": [
    {
     "data": {
      "text/plain": [
       "(1,)"
      ]
     },
     "execution_count": 45,
     "metadata": {},
     "output_type": "execute_result"
    }
   ],
   "source": [
    "biases.shape"
   ]
  }
 ],
 "metadata": {
  "kernelspec": {
   "display_name": ".venv",
   "language": "python",
   "name": "python3"
  },
  "language_info": {
   "codemirror_mode": {
    "name": "ipython",
    "version": 3
   },
   "file_extension": ".py",
   "mimetype": "text/x-python",
   "name": "python",
   "nbconvert_exporter": "python",
   "pygments_lexer": "ipython3",
   "version": "3.12.3"
  }
 },
 "nbformat": 4,
 "nbformat_minor": 5
}
